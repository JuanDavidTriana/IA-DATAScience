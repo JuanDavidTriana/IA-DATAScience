{
 "cells": [
  {
   "cell_type": "markdown",
   "metadata": {},
   "source": [
    "## Conexión de APIs con Bases de Datos Relacionales (SQLite) 💾🔗"
   ]
  },
  {
   "cell_type": "markdown",
   "metadata": {},
   "source": [
    "### Introducción\n",
    "\n",
    "En la clase anterior, construimos una API REST con Flask que gestionaba una lista de tareas. Sin embargo, esas tareas se almacenaban en una lista en memoria, lo que significa que se perdían cada vez que la aplicación Flask se detenía o reiniciaba. Para que los datos sean **persistentes**, necesitamos almacenarlos en una base de datos.\n",
    "\n",
    "**SQLite** es un sistema de gestión de bases de datos relacionales (RDBMS) autónomo, sin servidor, de configuración cero y transaccional. Es ideal para:\n",
    "* Desarrollo y pruebas.\n",
    "* Aplicaciones pequeñas a medianas.\n",
    "* Situaciones donde no se necesita un servidor de base de datos dedicado.\n",
    "\n",
    "Python tiene soporte incorporado para SQLite a través del módulo `sqlite3`. En esta clase, modificaremos nuestra API de tareas para que utilice una base de datos SQLite para almacenar y recuperar las tareas."
   ]
  },
  {
   "cell_type": "markdown",
   "metadata": {},
   "source": [
    "### 1. Prerrequisitos\n",
    "\n",
    "* Flask instalado (`pip install Flask`).\n",
    "* El módulo `sqlite3` viene incluido con la instalación estándar de Python, por lo que no se necesita instalación adicional."
   ]
  },
  {
   "cell_type": "markdown",
   "metadata": {},
   "source": [
    "---"
   ]
  },
  {
   "cell_type": "markdown",
   "metadata": {},
   "source": [
    "## 2. Conceptos Básicos de SQLite y el Módulo `sqlite3` de Python\n",
    "\n",
    "Antes de integrarlo con Flask, repasemos cómo interactuar con SQLite usando Python."
   ]
  },
  {
   "cell_type": "markdown",
   "metadata": {},
   "source": [
    "#### a. Conexión a la Base de Datos\n",
    "Se crea una conexión a un archivo de base de datos. Si el archivo no existe, SQLite lo creará."
   ]
  },
  {
   "cell_type": "code",
   "execution_count": 1,
   "metadata": {},
   "outputs": [],
   "source": [
    "import sqlite3\n",
    "\n",
    "# conn = sqlite3.connect('mi_base_de_datos.db') # Conecta o crea la base de datos\n",
    "# print(\"Conexión a SQLite establecida (o base de datos creada).\")\n",
    "# conn.close() # Siempre cierra la conexión cuando termines"
   ]
  },
  {
   "cell_type": "markdown",
   "metadata": {},
   "source": [
    "#### b. Creación de un Cursor y Ejecución de SQL\n",
    "El objeto cursor te permite ejecutar comandos SQL."
   ]
  },
  {
   "cell_type": "code",
   "execution_count": null,
   "metadata": {},
   "outputs": [
    {
     "name": "stdout",
     "output_type": "stream",
     "text": [
      "Tabla 'usuarios' creada o ya existente.\n",
      "Datos insertados.\n",
      "\n",
      "Usuarios en la base de datos:\n",
      "(1, 'Alice Wonderland', 'alice@example.com')\n",
      "(2, 'Bob The Builder', 'bob@example.com')\n",
      "\n",
      "Datos de Alice (como diccionario):\n",
      "{'id': 1, 'nombre': 'Alice Wonderland', 'email': 'alice@example.com'}\n"
     ]
    },
    {
     "ename": "",
     "evalue": "",
     "output_type": "error",
     "traceback": [
      "\u001b[1;31mThe Kernel crashed while executing code in the current cell or a previous cell. \n",
      "\u001b[1;31mPlease review the code in the cell(s) to identify a possible cause of the failure. \n",
      "\u001b[1;31mClick <a href='https://aka.ms/vscodeJupyterKernelCrash'>here</a> for more info. \n",
      "\u001b[1;31mView Jupyter <a href='command:jupyter.viewOutput'>log</a> for further details."
     ]
    }
   ],
   "source": [
    "conn = sqlite3.connect('mi_base_de_datos.db')\n",
    "cursor = conn.cursor()\n",
    "\n",
    "# Crear una tabla (DDL - Data Definition Language)\n",
    "cursor.execute('''\n",
    " CREATE TABLE IF NOT EXISTS usuarios (\n",
    "     id INTEGER PRIMARY KEY AUTOINCREMENT,\n",
    "     nombre TEXT NOT NULL,\n",
    "     email TEXT UNIQUE NOT NULL\n",
    " );\n",
    " ''')\n",
    "print(\"Tabla 'usuarios' creada o ya existente.\")\n",
    "\n",
    "# Insertar datos (DML - Data Manipulation Language)\n",
    "# Usar '?' como placeholders para prevenir inyección SQL\n",
    "try:\n",
    "     cursor.execute(\"INSERT INTO usuarios (nombre, email) VALUES (?, ?)\", ('Alice Wonderland', 'alice@example.com'))\n",
    "     cursor.execute(\"INSERT INTO usuarios (nombre, email) VALUES (?, ?)\", ('Bob The Builder', 'bob@example.com'))\n",
    "     conn.commit() # Guardar (confirmar) los cambios\n",
    "     print(\"Datos insertados.\")\n",
    "except sqlite3.IntegrityError as e: # Por si el email ya existe (UNIQUE constraint)\n",
    "     print(f\"Error de integridad al insertar: {e}\")\n",
    "\n",
    "# Consultar datos (DQL - Data Query Language)\n",
    "cursor.execute(\"SELECT * FROM usuarios\")\n",
    "todos_los_usuarios = cursor.fetchall() # Obtiene todas las filas\n",
    "print(\"\\nUsuarios en la base de datos:\")\n",
    "for usuario in todos_los_usuarios:\n",
    "     print(usuario) # Las filas son tuplas por defecto\n",
    "\n",
    "# Obtener filas como diccionarios (más conveniente para APIs)\n",
    "conn.row_factory = sqlite3.Row # Configurar para que las filas se devuelvan como objetos tipo diccionario\n",
    "cursor = conn.cursor() # Recrear el cursor después de cambiar row_factory\n",
    "cursor.execute(\"SELECT * FROM usuarios WHERE nombre = ?\", ('Alice Wonderland',))\n",
    "alice = cursor.fetchone() # Obtiene una sola fila\n",
    "if alice:\n",
    "    print(\"\\nDatos de Alice (como diccionario):\")\n",
    "    print(dict(alice)) # Convertir el objeto Row a un diccionario Python estándar\n",
    "else:\n",
    "    print(\"\\nAlice no encontrada.\")\n",
    "\n",
    "conn.close()"
   ]
  },
  {
   "cell_type": "markdown",
   "metadata": {},
   "source": [
    "**Puntos Clave del Módulo `sqlite3`:**\n",
    "* `sqlite3.connect('nombre_archivo.db')`: Conecta (y crea si no existe) la base de datos.\n",
    "* `conn.cursor()`: Crea un objeto cursor para ejecutar SQL.\n",
    "* `cursor.execute(\"SQL\", (parametros,))`: Ejecuta una sentencia SQL. Usa `?` para pasar parámetros de forma segura.\n",
    "* `conn.commit()`: Guarda los cambios realizados por operaciones DML (`INSERT`, `UPDATE`, `DELETE`).\n",
    "* `cursor.fetchall()`: Recupera todas las filas de una consulta `SELECT`.\n",
    "* `cursor.fetchone()`: Recupera la siguiente fila de una consulta `SELECT`.\n",
    "* `conn.row_factory = sqlite3.Row`: Permite acceder a las columnas por nombre (como un diccionario), lo cual es muy útil para APIs JSON.\n",
    "* `conn.close()`: Cierra la conexión a la base de datos."
   ]
  },
  {
   "cell_type": "markdown",
   "metadata": {},
   "source": [
    "---"
   ]
  },
  {
   "cell_type": "markdown",
   "metadata": {},
   "source": [
    "## 3. Modificando la API de Tareas para Usar SQLite\n",
    "\n",
    "Ahora, tomaremos nuestra API de tareas anterior (que usaba una lista en memoria) y la adaptaremos para que interactúe con una base de datos SQLite llamada `tasks.db`."
   ]
  },
  {
   "cell_type": "markdown",
   "metadata": {},
   "source": [
    "### 3.1. Configuración Inicial y Funciones Auxiliares para la BD\n",
    "\n",
    "Definiremos el nombre de nuestra base de datos y crearemos una función para obtener una conexión y una función para inicializar la tabla `tasks`."
   ]
  },
  {
   "cell_type": "markdown",
   "metadata": {},
   "source": [
    "```python\n",
    " Este sería el inicio de nuestro archivo tasks_api_sqlite.py\n",
    "\n",
    " import sqlite3\n",
    " from flask import Flask, request, jsonify\n",
    "\n",
    " DATABASE_NAME = 'tasks.db'\n",
    "\n",
    " def get_db_connection():\n",
    "     \"\"\"Crea y devuelve una conexión a la base de datos SQLite.\"\"\"\n",
    "     conn = sqlite3.connect(DATABASE_NAME)\n",
    "     conn.row_factory = sqlite3.Row # Para acceder a columnas por nombre\n",
    "     return conn\n",
    "\n",
    " def init_db():\n",
    "     \"\"\"Inicializa la base de datos y crea la tabla 'tasks' si no existe.\"\"\"\n",
    "     conn = get_db_connection()\n",
    "     cursor = conn.cursor()\n",
    "     cursor.execute('''\n",
    "         CREATE TABLE IF NOT EXISTS tasks (\n",
    "             id INTEGER PRIMARY KEY AUTOINCREMENT,\n",
    "             titulo TEXT NOT NULL,\n",
    "             descripcion TEXT,\n",
    "             completada BOOLEAN NOT NULL CHECK (completada IN (0, 1)) \n",
    "         );\n",
    "     ''')\n",
    "     conn.commit()\n",
    "     conn.close()\n",
    "     print(\"Base de datos inicializada y tabla 'tasks' creada/verificada.\")\n",
    "\n",
    " app = Flask(__name__)\n",
    "\n",
    "# (Aquí irán los endpoints de la API modificados)\n",
    "\n",
    " if __name__ == '__main__':\n",
    "     init_db() # Asegurarse que la tabla exista al iniciar la app\n",
    "     app.run(debug=True)\n",
    "```"
   ]
  },
  {
   "cell_type": "markdown",
   "metadata": {},
   "source": [
    "### 3.2. Actualización de los Endpoints CRUD\n",
    "\n",
    "Cada endpoint que antes interactuaba con la lista `tasks` ahora interactuará con la base de datos."
   ]
  },
  {
   "cell_type": "markdown",
   "metadata": {},
   "source": [
    "#### a) Crear una Tarea (POST /tasks)"
   ]
  },
  {
   "cell_type": "markdown",
   "metadata": {},
   "source": [
    "```python\n",
    " @app.route('/tasks', methods=['POST'])\n",
    " def create_task():\n",
    "     if not request.json or 'titulo' not in request.json:\n",
    "         return jsonify({'error': 'El título es requerido'}), 400\n",
    "\n",
    "     nuevo_titulo = request.json['titulo']\n",
    "     nueva_descripcion = request.json.get('descripcion', \"\")\n",
    "     # SQLite no tiene un tipo BOOLEAN nativo, usa INTEGER 0 (False) y 1 (True)\n",
    "     nueva_completada = 0 # Las tareas se crean como no completadas por defecto\n",
    "\n",
    "     conn = get_db_connection()\n",
    "     cursor = conn.cursor()\n",
    "     try:\n",
    "         cursor.execute(\n",
    "             \"INSERT INTO tasks (titulo, descripcion, completada) VALUES (?, ?, ?)\",\n",
    "             (nuevo_titulo, nueva_descripcion, nueva_completada)\n",
    "         )\n",
    "         conn.commit()\n",
    "         nueva_id_tarea = cursor.lastrowid # Obtener el ID de la tarea recién insertada\n",
    "     except sqlite3.Error as e:\n",
    "         conn.rollback() # Revertir cambios en caso de error\n",
    "         return jsonify({'error': f'Error en la base de datos: {e}'}), 500\n",
    "     finally:\n",
    "         conn.close()\n",
    "\n",
    "     # Devolver la tarea creada (opcionalmente, podrías hacer otro SELECT para obtenerla)\n",
    "     tarea_creada = {'id': nueva_id_tarea, 'titulo': nuevo_titulo, 'descripcion': nueva_descripcion, 'completada': False}\n",
    "     return jsonify(tarea_creada), 201\n",
    "```"
   ]
  },
  {
   "cell_type": "markdown",
   "metadata": {},
   "source": [
    "#### b) Obtener Todas las Tareas (GET /tasks)"
   ]
  },
  {
   "cell_type": "markdown",
   "metadata": {},
   "source": [
    "```python\n",
    " @app.route('/tasks', methods=['GET'])\n",
    " def get_tasks():\n",
    "     conn = get_db_connection()\n",
    "     cursor = conn.cursor()\n",
    "     cursor.execute(\"SELECT * FROM tasks\")\n",
    "     filas_tareas = cursor.fetchall()\n",
    "     conn.close()\n",
    "    \n",
    "     # Convertir las filas (objetos sqlite3.Row) a una lista de diccionarios\n",
    "     tareas_lista = [dict(row) for row in filas_tareas]\n",
    "    # Convertir el booleano almacenado como 0/1 a True/False para JSON\n",
    "     for tarea in tareas_lista:\n",
    "        tarea['completada'] = bool(tarea['completada'])\n",
    "        \n",
    "#     return jsonify({'tasks': tareas_lista})\n",
    "```"
   ]
  },
  {
   "cell_type": "markdown",
   "metadata": {},
   "source": [
    "#### c) Obtener una Tarea Específica (GET /tasks/<task_id>)"
   ]
  },
  {
   "cell_type": "markdown",
   "metadata": {},
   "source": [
    "```python\n",
    "# @app.route('/tasks/<int:task_id>', methods=['GET'])\n",
    "# def get_task(task_id):\n",
    "#     conn = get_db_connection()\n",
    "#     cursor = conn.cursor()\n",
    "#     cursor.execute(\"SELECT * FROM tasks WHERE id = ?\", (task_id,))\n",
    "#     fila_tarea = cursor.fetchone()\n",
    "#     conn.close()\n",
    "    \n",
    "#     if fila_tarea:\n",
    "#         tarea = dict(fila_tarea)\n",
    "#         tarea['completada'] = bool(tarea['completada'])\n",
    "#         return jsonify(tarea)\n",
    "#     else:\n",
    "#         return jsonify({'error': 'Tarea no encontrada'}), 404\n",
    "```"
   ]
  },
  {
   "cell_type": "markdown",
   "metadata": {},
   "source": [
    "#### d) Actualizar una Tarea (PUT /tasks/<task_id>)"
   ]
  },
  {
   "cell_type": "markdown",
   "metadata": {},
   "source": [
    "```python\n",
    " @app.route('/tasks/<int:task_id>', methods=['PUT'])\n",
    " def update_task(task_id):\n",
    "     if not request.json:\n",
    "         return jsonify({'error': 'Datos no proporcionados en formato JSON'}), 400\n",
    "\n",
    "#     conn = get_db_connection()\n",
    "#     cursor = conn.cursor()\n",
    "    \n",
    "#     # Verificar si la tarea existe\n",
    "#     cursor.execute(\"SELECT * FROM tasks WHERE id = ?\", (task_id,))\n",
    "#     tarea_existente = cursor.fetchone()\n",
    "#     if not tarea_existente:\n",
    "#         conn.close()\n",
    "#         return jsonify({'error': 'Tarea no encontrada'}), 404\n",
    "        \n",
    "#     # Obtener datos del request, usando los existentes si no se proporcionan nuevos\n",
    "#     titulo_actualizado = request.json.get('titulo', tarea_existente['titulo'])\n",
    "#     descripcion_actualizada = request.json.get('descripcion', tarea_existente['descripcion'])\n",
    "#     # Para 'completada', si viene en el JSON, usarlo, sino, el valor existente.\n",
    "#     # Convertir el booleano de Python a 0/1 para SQLite.\n",
    "#     if 'completada' in request.json:\n",
    "#         completada_actualizada_bool = request.json['completada']\n",
    "#         if not isinstance(completada_actualizada_bool, bool):\n",
    "#             conn.close()\n",
    "#             return jsonify({'error': 'El campo \"completada\" debe ser un booleano (true/false)'}), 400\n",
    "#         completada_actualizada_int = 1 if completada_actualizada_bool else 0\n",
    "#     else:\n",
    "#         completada_actualizada_int = tarea_existente['completada'] # Ya es 0 o 1\n",
    "        \n",
    "#     try:\n",
    "#         cursor.execute(\n",
    "#             \"UPDATE tasks SET titulo = ?, descripcion = ?, completada = ? WHERE id = ?\",\n",
    "#             (titulo_actualizado, descripcion_actualizada, completada_actualizada_int, task_id)\n",
    "#         )\n",
    "#         conn.commit()\n",
    "#     except sqlite3.Error as e:\n",
    "#         conn.rollback()\n",
    "#         conn.close()\n",
    "#         return jsonify({'error': f'Error en la base de datos: {e}'}), 500\n",
    "    \n",
    "#     # Obtener la tarea actualizada para devolverla\n",
    "#     cursor.execute(\"SELECT * FROM tasks WHERE id = ?\", (task_id,))\n",
    "#     tarea_actualizada_fila = cursor.fetchone()\n",
    "#     conn.close()\n",
    "    \n",
    "#     tarea_actualizada = dict(tarea_actualizada_fila)\n",
    "#     tarea_actualizada['completada'] = bool(tarea_actualizada['completada'])\n",
    "    \n",
    "#     return jsonify(tarea_actualizada)\n",
    "```"
   ]
  },
  {
   "cell_type": "markdown",
   "metadata": {},
   "source": [
    "#### e) Eliminar una Tarea (DELETE /tasks/<task_id>)"
   ]
  },
  {
   "cell_type": "markdown",
   "metadata": {},
   "source": [
    "```python\n",
    "# @app.route('/tasks/<int:task_id>', methods=['DELETE'])\n",
    "# def delete_task(task_id):\n",
    "#     conn = get_db_connection()\n",
    "#     cursor = conn.cursor()\n",
    "    \n",
    "#     # Verificar si la tarea existe antes de intentar eliminar\n",
    "#     cursor.execute(\"SELECT * FROM tasks WHERE id = ?\", (task_id,))\n",
    "#     if not cursor.fetchone():\n",
    "#         conn.close()\n",
    "#         return jsonify({'error': 'Tarea no encontrada'}), 404\n",
    "\n",
    "#     try:\n",
    "#         cursor.execute(\"DELETE FROM tasks WHERE id = ?\", (task_id,))\n",
    "#         conn.commit()\n",
    "#     except sqlite3.Error as e:\n",
    "#         conn.rollback()\n",
    "#         return jsonify({'error': f'Error en la base de datos: {e}'}), 500\n",
    "#     finally:\n",
    "#         conn.close()\n",
    "        \n",
    "#     return jsonify({'mensaje': 'Tarea eliminada exitosamente'}), 200 # o 204 No Content\n",
    "```"
   ]
  },
  {
   "cell_type": "markdown",
   "metadata": {},
   "source": [
    "### 3.3. Código Completo de la API con SQLite (`tasks_api_sqlite.py`)\n",
    "\n",
    "Aquí juntaríamos todas las partes en un solo script."
   ]
  },
  {
   "cell_type": "code",
   "execution_count": null,
   "metadata": {},
   "outputs": [],
   "source": [
    "# Este bloque contendría el código completo como se escribiría en un archivo .py\n",
    "# (similar a juntar los fragmentos de 3.1 y 3.2)\n",
    "# Por brevedad en este notebook, se omite la repetición completa aquí,\n",
    "# pero se entiende que es la combinación de los snippets anteriores.\n",
    "\n",
    "print(\"Imagina aquí el código completo del archivo tasks_api_sqlite.py...\")\n",
    "print(\"Asegúrate de incluir la llamada a init_db() antes de app.run() si es necesario.\")"
   ]
  },
  {
   "cell_type": "markdown",
   "metadata": {},
   "source": [
    "---"
   ]
  },
  {
   "cell_type": "markdown",
   "metadata": {},
   "source": [
    "## 4. Ejecutando y Probando la API con Base de Datos\n",
    "\n",
    "1.  Guarda el código completo de la API en un archivo, por ejemplo, `tasks_api_sqlite.py`.\n",
    "2.  Ejecútalo desde tu terminal: `python tasks_api_sqlite.py`.\n",
    "3.  Al ejecutarlo, se creará (si no existe) un archivo `tasks.db` en el mismo directorio. Este es tu archivo de base de datos SQLite.\n",
    "4.  Utiliza Postman, Insomnia, `curl` o la librería `requests` de Python para probar los diferentes endpoints (GET, POST, PUT, DELETE).\n",
    "5.  Verifica que los datos persisten incluso si detienes y reinicias el servidor Flask.\n",
    "6.  Puedes inspeccionar el archivo `tasks.db` con una herramienta como \"DB Browser for SQLite\" para ver los datos directamente."
   ]
  },
  {
   "cell_type": "markdown",
   "metadata": {},
   "source": [
    "---"
   ]
  },
  {
   "cell_type": "markdown",
   "metadata": {},
   "source": [
    "## 5. Consideraciones Adicionales\n",
    "\n",
    "* **Seguridad contra Inyección SQL:** Al usar `cursor.execute(\"SQL...\", (parametros,))` con `?` como placeholders, el módulo `sqlite3` se encarga de escapar los parámetros correctamente, previniendo la mayoría de los ataques de inyección SQL. Nunca construyas queries SQL concatenando strings directamente con datos de entrada del usuario.\n",
    "* **Gestión de Conexiones en Flask:** Para aplicaciones más complejas, Flask ofrece patrones para gestionar conexiones a bases de datos de forma más eficiente (ej. usando el objeto `g` de Flask y `teardown_appcontext` para asegurar que las conexiones se cierren después de cada petición). Lo que hicimos (abrir/cerrar por función) es simple pero puede no ser lo más óptimo para alto tráfico.\n",
    "* **Manejo de Errores:** Un manejo de errores más robusto (bloques `try-except-finally`) es crucial en producción.\n",
    "* **Esquemas y Migraciones:** Si la estructura de tu tabla (`schema`) necesita cambiar después de que la aplicación esté en uso, necesitarás un sistema de \"migraciones\" para actualizar la base de datos sin perder datos (herramientas como Alembic pueden ayudar, especialmente con SQLAlchemy).\n",
    "* **ORMs (Object-Relational Mappers):** Para interactuar con bases de datos de una manera más orientada a objetos y abstracta (sin escribir SQL directamente), se pueden usar ORMs como SQLAlchemy o Peewee. Flask tiene extensiones como `Flask-SQLAlchemy` que facilitan esto."
   ]
  },
  {
   "cell_type": "markdown",
   "metadata": {},
   "source": [
    "---"
   ]
  },
  {
   "cell_type": "markdown",
   "metadata": {},
   "source": [
    "## 6. Resumen\n",
    "\n",
    "Hemos aprendido cómo conectar una API Flask a una base de datos SQLite para lograr la persistencia de datos. Esto implica:\n",
    "* Usar el módulo `sqlite3` de Python.\n",
    "* Definir un esquema de tabla.\n",
    "* Modificar los endpoints CRUD para ejecutar operaciones SQL (`INSERT`, `SELECT`, `UPDATE`, `DELETE`).\n",
    "* Manejar conexiones y commits.\n",
    "\n",
    "Esta es una habilidad fundamental para construir aplicaciones backend que manejen datos de manera efectiva."
   ]
  },
  {
   "cell_type": "markdown",
   "metadata": {},
   "source": [
    "## (Opcional) Ejercicio Práctico 🚀\n",
    "\n",
    "Tomando el ejercicio opcional de la clase anterior donde creaste una API CRUD para \"libros\":\n",
    "\n",
    "1.  Define un esquema para una tabla `libros` en SQLite. Debe tener al menos columnas para `id` (INTEGER PRIMARY KEY AUTOINCREMENT), `titulo` (TEXT NOT NULL), `autor` (TEXT NOT NULL), y `anio_publicacion` (INTEGER).\n",
    "2.  Crea una función `init_libros_db()` para crear esta tabla.\n",
    "3.  Adapta todos tus endpoints CRUD (GET todos, GET por ID, POST, PUT, DELETE) de la API de libros para que lean y escriban en la tabla `libros` de una base de datos SQLite (`libros.db`).\n",
    "4.  Asegúrate de manejar las conexiones a la base de datos y los commits apropiadamente.\n",
    "5.  Prueba tu API exhaustivamente."
   ]
  }
 ],
 "metadata": {
  "kernelspec": {
   "display_name": "Python 3",
   "language": "python",
   "name": "python3"
  },
  "language_info": {
   "codemirror_mode": {
    "name": "ipython",
    "version": 3
   },
   "file_extension": ".py",
   "mimetype": "text/x-python",
   "name": "python",
   "nbconvert_exporter": "python",
   "pygments_lexer": "ipython3",
   "version": "3.13.3"
  }
 },
 "nbformat": 4,
 "nbformat_minor": 2
}
