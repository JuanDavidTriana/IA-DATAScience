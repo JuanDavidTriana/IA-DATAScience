{
 "cells": [
  {
   "cell_type": "markdown",
   "metadata": {},
   "source": [
    "# Módulo 2: Preprocesamiento de Datos y Desarrollo Backend\n",
    "## Clase 7: Uso de SQLAlchemy para Manejar Bases de Datos mediante un ORM 🧱⚙️"
   ]
  },
  {
   "cell_type": "markdown",
   "metadata": {},
   "source": [
    "### Introducción\n",
    "\n",
    "En la clase anterior, conectamos nuestra API Flask a una base de datos SQLite utilizando el módulo `sqlite3` y escribiendo SQL directamente. Si bien esto funciona, puede volverse tedioso y propenso a errores a medida que la aplicación crece y las consultas se vuelven más complejas. Además, nos ata a la sintaxis específica de SQLite.\n",
    "\n",
    "Un **ORM (Object-Relational Mapper)** es una técnica de programación que crea un \"puente\" entre un lenguaje de programación orientado a objetos (como Python) y una base de datos relacional. Permite interactuar con la base de datos utilizando objetos y métodos de Python en lugar de escribir sentencias SQL directamente.\n",
    "\n",
    "**SQLAlchemy** es un potente toolkit SQL y ORM para Python. Proporciona un conjunto completo de herramientas para interactuar con bases de datos y es agnóstico respecto al motor de base de datos (soporta PostgreSQL, MySQL, SQLite, Oracle, etc.).\n",
    "\n",
    "**Flask-SQLAlchemy** es una extensión de Flask que integra SQLAlchemy en tu aplicación Flask, simplificando la configuración y el uso.\n",
    "\n",
    "**Beneficios de usar un ORM como SQLAlchemy:**\n",
    "* **Código más Pythónico:** Interactúas con la base de datos usando clases y objetos de Python.\n",
    "* **Abstracción de SQL:** Reduce la cantidad de SQL que necesitas escribir (especialmente para operaciones CRUD comunes).\n",
    "* **Portabilidad de Base de Datos:** Facilita el cambio entre diferentes sistemas de bases de datos con cambios mínimos en el código.\n",
    "* **Seguridad:** Ayuda a prevenir ataques de inyección SQL cuando se usa correctamente.\n",
    "* **Productividad:** Puede acelerar el desarrollo al manejar tareas repetitivas de base de datos."
   ]
  },
  {
   "cell_type": "markdown",
   "metadata": {},
   "source": [
    "### 1. Prerrequisitos y Configuración\n",
    "\n",
    "Necesitarás Flask y Flask-SQLAlchemy. SQLAlchemy se instalará como una dependencia de Flask-SQLAlchemy."
   ]
  },
  {
   "cell_type": "code",
   "execution_count": null,
   "metadata": {
    "tags": [
     "bash"
    ]
   },
   "outputs": [],
   "source": [
    "# En tu terminal o Anaconda Prompt, ejecuta:\n",
    "# pip install Flask Flask-SQLAlchemy SQLAlchemy"
   ]
  },
  {
   "cell_type": "markdown",
   "metadata": {},
   "source": [
    "---"
   ]
  },
  {
   "cell_type": "markdown",
   "metadata": {},
   "source": [
    "## 2. Configurando Flask con Flask-SQLAlchemy\n",
    "\n",
    "Primero, configuramos nuestra aplicación Flask para que use SQLAlchemy.\n",
    "El siguiente bloque de código representa el inicio de un archivo `app_sqlalchemy.py`."
   ]
  },
  {
   "cell_type": "code",
   "execution_count": null,
   "metadata": {},
   "outputs": [],
   "source": [
    "from flask import Flask, request, jsonify\n",
    "from flask_sqlalchemy import SQLAlchemy\n",
    "import os # Para manejar rutas de archivos de forma robusta\n",
    "\n",
    "app = Flask(__name__)\n",
    "\n",
    "# Configuración de la base de datos\n",
    "# Obtenemos la ruta base del directorio del script actual\n",
    "# Nota: __file__ no está definido en un notebook, esto es para un script .py\n",
    "# Para un notebook, podrías definir base_dir de otra manera, ej. base_dir = os.getcwd()\n",
    "try:\n",
    "    base_dir = os.path.abspath(os.path.dirname(__file__))\n",
    "except NameError: # Ocurre si __file__ no está definido (ej. en un notebook interactivo)\n",
    "    base_dir = os.getcwd() # Usar el directorio de trabajo actual como fallback\n",
    "\n",
    "# Definimos la URI de la base de datos SQLite. El archivo se creará en base_dir.\n",
    "app.config['SQLALCHEMY_DATABASE_URI'] = 'sqlite:///' + os.path.join(base_dir, 'tasks_sqlalchemy.db')\n",
    "app.config['SQLALCHEMY_TRACK_MODIFICATIONS'] = False # Desactiva una característica de Flask-SQLAlchemy que no necesitamos y consume recursos\n",
    "\n",
    "# Inicializar la extensión SQLAlchemy con nuestra aplicación Flask\n",
    "db = SQLAlchemy(app)\n",
    "\n",
    "print(f\"Base de datos configurada en: {app.config['SQLALCHEMY_DATABASE_URI']}\")"
   ]
  },
  {
   "cell_type": "markdown",
   "metadata": {},
   "source": [
    "**Explicación de la Configuración:**\n",
    "* `app.config['SQLALCHEMY_DATABASE_URI']`: Le dice a SQLAlchemy dónde encontrar la base de datos. Para SQLite, es una ruta a un archivo.\n",
    "* `app.config['SQLALCHEMY_TRACK_MODIFICATIONS'] = False`: Desactiva el sistema de seguimiento de modificaciones de Flask-SQLAlchemy.\n",
    "* `db = SQLAlchemy(app)`: Crea la instancia de SQLAlchemy, vinculándola a nuestra aplicación Flask."
   ]
  },
  {
   "cell_type": "markdown",
   "metadata": {},
   "source": [
    "---"
   ]
  },
  {
   "cell_type": "markdown",
   "metadata": {},
   "source": [
    "## 3. Definiendo Modelos de Datos con SQLAlchemy\n",
    "\n",
    "Un modelo es una clase de Python que representa una tabla en tu base de datos. Cada atributo de la clase corresponde a una columna en la tabla.\n",
    "Continuamos con el contenido del archivo `app_sqlalchemy.py`:"
   ]
  },
  {
   "cell_type": "code",
   "execution_count": null,
   "metadata": {},
   "outputs": [],
   "source": [
    "# --- Modelo --- \n",
    "class Task(db.Model): # Hereda de db.Model\n",
    "    __tablename__ = 'tasks' # Opcional, por defecto usa el nombre de la clase en minúsculas\n",
    "\n",
    "    id = db.Column(db.Integer, primary_key=True) # Columna ID, entero, clave primaria (autoincremental por defecto)\n",
    "    titulo = db.Column(db.String(100), nullable=False) # Cadena de hasta 100 chars, no puede ser nulo\n",
    "    descripcion = db.Column(db.String(200), nullable=True) # Cadena de hasta 200 chars, puede ser nulo\n",
    "    completada = db.Column(db.Boolean, default=False, nullable=False) # Booleano, por defecto False\n",
    "\n",
    "    # (Opcional) Representación en string del objeto, útil para debugging\n",
    "    def __repr__(self):\n",
    "        return f'<Task {self.id}: {self.titulo}>'\n",
    "\n",
    "    # Método para convertir el objeto Task a un diccionario (para serialización JSON)\n",
    "    def to_dict(self):\n",
    "        return {\n",
    "            'id': self.id,\n",
    "            'titulo': self.titulo,\n",
    "            'descripcion': self.descripcion,\n",
    "            'completada': self.completada\n",
    "        }\n",
    "print(\"Modelo Task definido.\")"
   ]
  },
  {
   "cell_type": "markdown",
   "metadata": {},
   "source": [
    "**Para crear las tablas en la base de datos (se hace una vez, usualmente al iniciar la app):**\n",
    "```python\n",
    "# Esto se ejecutaría en el contexto de la aplicación, por ejemplo, antes de app.run()\n",
    "# o mediante un comando CLI específico.\n",
    "# with app.app_context():\n",
    "#     db.create_all()\n",
    "# print(\"Tablas creadas (si no existían).\")\n",
    "```"
   ]
  },
  {
   "cell_type": "markdown",
   "metadata": {},
   "source": [
    "---"
   ]
  },
  {
   "cell_type": "markdown",
   "metadata": {},
   "source": [
    "## 4. Operaciones CRUD con SQLAlchemy ORM en la API de Tareas\n",
    "\n",
    "Ahora modificaremos nuestros endpoints Flask para usar el modelo `Task` y la sesión de SQLAlchemy (`db.session`) para interactuar con la base de datos.\n",
    "Estos bloques de código también serían parte de `app_sqlalchemy.py`."
   ]
  },
  {
   "cell_type": "markdown",
   "metadata": {},
   "source": [
    "#### a) Crear una Tarea (POST /tasks)"
   ]
  },
  {
   "cell_type": "code",
   "execution_count": null,
   "metadata": {},
   "outputs": [
    {
     "ename": "",
     "evalue": "",
     "output_type": "error",
     "traceback": [
      "\u001b[1;31mThe Kernel crashed while executing code in the current cell or a previous cell. \n",
      "\u001b[1;31mPlease review the code in the cell(s) to identify a possible cause of the failure. \n",
      "\u001b[1;31mClick <a href='https://aka.ms/vscodeJupyterKernelCrash'>here</a> for more info. \n",
      "\u001b[1;31mView Jupyter <a href='command:jupyter.viewOutput'>log</a> for further details."
     ]
    }
   ],
   "source": [
    "@app.route('/tasks', methods=['POST'])\n",
    "def create_task():\n",
    "    data = request.get_json()\n",
    "    if not data or 'titulo' not in data:\n",
    "        return jsonify({'error': 'El título es requerido'}), 400\n",
    "\n",
    "    nueva_tarea = Task(\n",
    "        titulo=data['titulo'],\n",
    "        descripcion=data.get('descripcion', \"\"),\n",
    "        completada=data.get('completada', False) # Acepta booleano directamente\n",
    "    )\n",
    "\n",
    "    try:\n",
    "        db.session.add(nueva_tarea) # Añade el nuevo objeto a la sesión\n",
    "        db.session.commit()        # Guarda los cambios en la base de datos\n",
    "        return jsonify(nueva_tarea.to_dict()), 201\n",
    "    except Exception as e:\n",
    "        db.session.rollback() # Revertir en caso de error\n",
    "        return jsonify({'error': str(e)}), 500"
   ]
  },
  {
   "cell_type": "markdown",
   "metadata": {},
   "source": [
    "#### b) Obtener Todas las Tareas (GET /tasks)"
   ]
  },
  {
   "cell_type": "code",
   "execution_count": null,
   "metadata": {},
   "outputs": [],
   "source": [
    "@app.route('/tasks', methods=['GET'])\n",
    "def get_tasks():\n",
    "    try:\n",
    "        todas_las_tareas = Task.query.all() # Obtiene todos los registros de la tabla Task\n",
    "        return jsonify({'tasks': [task.to_dict() for task in todas_las_tareas]})\n",
    "    except Exception as e:\n",
    "        return jsonify({'error': str(e)}), 500"
   ]
  },
  {
   "cell_type": "markdown",
   "metadata": {},
   "source": [
    "#### c) Obtener una Tarea Específica (GET /tasks/<task_id>)"
   ]
  },
  {
   "cell_type": "code",
   "execution_count": null,
   "metadata": {},
   "outputs": [],
   "source": [
    "@app.route('/tasks/<int:task_id>', methods=['GET'])\n",
    "def get_task(task_id):\n",
    "    try:\n",
    "        # .get() es la forma recomendada para buscar por clave primaria\n",
    "        task = db.session.get(Task, task_id) \n",
    "        # task = Task.query.get_or_404(task_id) # Alternativa que lanza 404 si no se encuentra\n",
    "        if task is None:\n",
    "           return jsonify({'error': 'Tarea no encontrada'}), 404\n",
    "        return jsonify(task.to_dict())\n",
    "    except Exception as e:\n",
    "        return jsonify({'error': str(e)}), 500"
   ]
  },
  {
   "cell_type": "markdown",
   "metadata": {},
   "source": [
    "#### d) Actualizar una Tarea (PUT /tasks/<task_id>)"
   ]
  },
  {
   "cell_type": "code",
   "execution_count": null,
   "metadata": {},
   "outputs": [],
   "source": [
    "@app.route('/tasks/<int:task_id>', methods=['PUT'])\n",
    "def update_task(task_id):\n",
    "    data = request.get_json()\n",
    "    if not data:\n",
    "        return jsonify({'error': 'Datos no proporcionados'}), 400\n",
    "\n",
    "    try:\n",
    "        task = db.session.get(Task, task_id)\n",
    "        if task is None:\n",
    "            return jsonify({'error': 'Tarea no encontrada'}), 404\n",
    "        \n",
    "        task.titulo = data.get('titulo', task.titulo)\n",
    "        task.descripcion = data.get('descripcion', task.descripcion)\n",
    "        if 'completada' in data:\n",
    "            if not isinstance(data['completada'], bool):\n",
    "                return jsonify({'error': 'El campo \"completada\" debe ser un booleano'}), 400\n",
    "            task.completada = data['completada']\n",
    "        \n",
    "        db.session.commit() # SQLAlchemy rastrea los cambios en 'task' y los guarda\n",
    "        return jsonify(task.to_dict())\n",
    "    except Exception as e:\n",
    "        db.session.rollback()\n",
    "        return jsonify({'error': str(e)}), 500"
   ]
  },
  {
   "cell_type": "markdown",
   "metadata": {},
   "source": [
    "#### e) Eliminar una Tarea (DELETE /tasks/<task_id>)"
   ]
  },
  {
   "cell_type": "code",
   "execution_count": null,
   "metadata": {},
   "outputs": [],
   "source": [
    "@app.route('/tasks/<int:task_id>', methods=['DELETE'])\n",
    "def delete_task(task_id):\n",
    "    try:\n",
    "        task = db.session.get(Task, task_id)\n",
    "        if task is None:\n",
    "            return jsonify({'error': 'Tarea no encontrada'}), 404\n",
    "        \n",
    "        db.session.delete(task) # Marca el objeto para ser eliminado\n",
    "        db.session.commit()     # Ejecuta la eliminación en la BD\n",
    "        \n",
    "        return jsonify({'mensaje': 'Tarea eliminada exitosamente'}), 200\n",
    "    except Exception as e:\n",
    "        db.session.rollback()\n",
    "        return jsonify({'error': str(e)}), 500"
   ]
  },
  {
   "cell_type": "markdown",
   "metadata": {},
   "source": [
    "### 4.1. Bloque Principal para Ejecutar la Aplicación\n",
    "Este sería el final de tu archivo `app_sqlalchemy.py`."
   ]
  },
  {
   "cell_type": "code",
   "execution_count": null,
   "metadata": {},
   "outputs": [],
   "source": [
    "if __name__ == '__main__':\n",
    "    # Crear las tablas en la base de datos si no existen.\n",
    "    # Es importante hacerlo dentro del contexto de la aplicación.\n",
    "    with app.app_context():\n",
    "        db.create_all()\n",
    "    app.run(debug=True)"
   ]
  },
  {
   "cell_type": "markdown",
   "metadata": {},
   "source": [
    "**Nota sobre `db.session.get(Model, id)`:**\n",
    "A partir de SQLAlchemy 1.4 y Flask-SQLAlchemy 3.0, `db.session.get(Model, id)` es la forma preferida para obtener un objeto por su clave primaria en lugar de `Model.query.get(id)`. Si usas versiones anteriores, `Model.query.get()` sería la forma."
   ]
  },
  {
   "cell_type": "markdown",
   "metadata": {},
   "source": [
    "---"
   ]
  },
  {
   "cell_type": "markdown",
   "metadata": {},
   "source": [
    "## 5. Ejecutando y Probando la API\n",
    "\n",
    "1.  **Guarda todo el código** (Configuración, Modelo, Endpoints y el bloque `if __name__ == '__main__':`) en un archivo, por ejemplo, `app_sqlalchemy.py`.\n",
    "2.  **Ejecuta desde la terminal:** `python app_sqlalchemy.py`.\n",
    "3.  Se creará un archivo `tasks_sqlalchemy.db` (si no existe) y las tablas definidas en tu modelo.\n",
    "4.  **Prueba los endpoints** usando Postman, `curl` o la librería `requests` de Python. Los datos ahora persistirán entre reinicios del servidor."
   ]
  },
  {
   "cell_type": "markdown",
   "metadata": {},
   "source": [
    "---"
   ]
  },
  {
   "cell_type": "markdown",
   "metadata": {},
   "source": [
    "## 6. Ventajas y Consideraciones de SQLAlchemy ORM\n",
    "\n",
    "**Ventajas (repaso):**\n",
    "* **Abstracción del SQL:** Escribes menos SQL.\n",
    "* **Código Orientado a Objetos:** Más natural en Python.\n",
    "* **Portabilidad:** Cambiar de SQLite a PostgreSQL, por ejemplo, requiere principalmente cambiar la `SQLALCHEMY_DATABASE_URI`.\n",
    "* **Manejo de Sesiones y Transacciones:** SQLAlchemy gestiona esto por ti.\n",
    "\n",
    "**Consideraciones:**\n",
    "* **Curva de Aprendizaje:** Dominar SQLAlchemy, especialmente sus características avanzadas, lleva tiempo.\n",
    "* **Rendimiento:** Para consultas extremadamente complejas, el SQL generado por el ORM podría no ser tan eficiente como el SQL escrito a mano, pero para la mayoría de las aplicaciones es adecuado.\n",
    "* **Migraciones de Esquema:** Para cambios en la estructura de las tablas en producción, se usan herramientas como **Alembic** (con Flask-Migrate)."
   ]
  },
  {
   "cell_type": "markdown",
   "metadata": {},
   "source": [
    "---"
   ]
  },
  {
   "cell_type": "markdown",
   "metadata": {},
   "source": [
    "## 7. Resumen\n",
    "\n",
    "Hemos transformado nuestra API Flask para usar SQLAlchemy ORM, permitiendo interactuar con la base de datos de forma orientada a objetos. Definimos modelos, configuramos Flask-SQLAlchemy y adaptamos nuestras operaciones CRUD.\n",
    "Este enfoque es muy común y robusto para el desarrollo de aplicaciones Python."
   ]
  },
  {
   "cell_type": "markdown",
   "metadata": {},
   "source": [
    "## (Opcional) Ejercicio Práctico 📚\n",
    "\n",
    "Tomando el ejercicio opcional de la clase anterior donde se te pidió crear una API CRUD para \"libros\":\n",
    "\n",
    "1.  **Define un Modelo `Libro` con SQLAlchemy:**\n",
    "    * Columnas: `id` (Integer, PK), `titulo` (String, not null), `autor` (String, not null), `anio_publicacion` (Integer), `isbn` (String, unique, optional).\n",
    "    * Añade un método `to_dict()` para serialización.\n",
    "2.  **Configura Flask-SQLAlchemy** en una nueva aplicación Flask para este modelo de libros (puedes usar una base de datos `libros_sqlalchemy.db`).\n",
    "3.  **Implementa los Endpoints CRUD para Libros:**\n",
    "    * `POST /libros`: Crear un nuevo libro.\n",
    "    * `GET /libros`: Obtener todos los libros.\n",
    "    * `GET /libros/<int:libro_id>`: Obtener un libro específico por su ID.\n",
    "    * `PUT /libros/<int:libro_id>`: Actualizar un libro existente.\n",
    "    * `DELETE /libros/<int:libro_id>`: Eliminar un libro.\n",
    "4.  Asegúrate de que la tabla `libros` se cree al iniciar la aplicación (`db.create_all()`).\n",
    "5.  Prueba tu API exhaustivamente."
   ]
  }
 ],
 "metadata": {
  "kernelspec": {
   "display_name": "Python 3",
   "language": "python",
   "name": "python3"
  },
  "language_info": {
   "codemirror_mode": {
    "name": "ipython",
    "version": 3
   },
   "file_extension": ".py",
   "mimetype": "text/x-python",
   "name": "python",
   "nbconvert_exporter": "python",
   "pygments_lexer": "ipython3",
   "version": "3.13.3"
  }
 },
 "nbformat": 4,
 "nbformat_minor": 2
}
