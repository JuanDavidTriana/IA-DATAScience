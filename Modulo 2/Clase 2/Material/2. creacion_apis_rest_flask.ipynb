{
 "cells": [
  {
   "cell_type": "markdown",
   "metadata": {},
   "source": [
    "### Introducción\n",
    "\n",
    "En la clase anterior, aprendimos qué son las APIs y por qué son esenciales. Ahora, daremos un paso práctico y aprenderemos a construir nuestras propias APIs REST utilizando **Flask**, un popular microframework de Python.\n",
    "\n",
    "**¿Qué es Flask?**\n",
    "Flask es un \"micro\" framework web para Python. Se llama \"micro\" no porque le falten funcionalidades, sino porque su núcleo es simple y extensible. Permite construir aplicaciones web (incluyendo APIs) de manera rápida y con mucha flexibilidad, ya que no impone una estructura de proyecto rígida ni dependencias específicas.\n",
    "\n",
    "**¿Por qué usar Flask para APIs?**\n",
    "* **Ligero y Rápido:** Ideal para prototipos y servicios pequeños/medianos.\n",
    "* **Flexible:** Te da control total sobre los componentes que usas.\n",
    "* **Fácil de Aprender:** Su sintaxis es intuitiva.\n",
    "* **Gran Comunidad y Extensiones:** Muchas librerías disponibles para añadir funcionalidades (autenticación, ORMs, etc.).\n",
    "\n",
    "**Repaso Rápido: API REST**\n",
    "Una API REST (Representational State Transfer) es un estilo arquitectónico para diseñar aplicaciones en red. Utiliza los métodos HTTP estándar (GET, POST, PUT, DELETE, etc.) para interactuar con recursos, que son identificados por URLs. Las respuestas suelen ser en formato JSON."
   ]
  },
  {
   "cell_type": "markdown",
   "metadata": {},
   "source": [
    "### 1. Prerrequisitos y Configuración\n",
    "\n",
    "Asegúrate de tener Python instalado. Flask se instala fácilmente usando pip."
   ]
  },
  {
   "cell_type": "code",
   "execution_count": null,
   "metadata": {
    "tags": [
     "bash"
    ]
   },
   "outputs": [],
   "source": [
    "# En tu terminal o Anaconda Prompt, ejecuta:\n",
    "# pip install Flask"
   ]
  },
  {
   "cell_type": "markdown",
   "metadata": {},
   "source": [
    "Para este notebook, escribiremos el código Flask como si fuera un archivo `.py`. Para ejecutarlo, normalmente guardarías el código en un archivo (ej. `app.py`) y lo ejecutarías desde la terminal (`python app.py`). Dentro de un notebook, podemos simular esto o explicar cómo hacerlo."
   ]
  },
  {
   "cell_type": "markdown",
   "metadata": {},
   "source": [
    "---"
   ]
  },
  {
   "cell_type": "markdown",
   "metadata": {},
   "source": [
    "## 2. Tu Primera Aplicación Flask: \"Hola, Mundo API\"\n",
    "\n",
    "Vamos a crear la aplicación Flask más simple posible que devuelva un mensaje JSON."
   ]
  },
  {
   "cell_type": "code",
   "execution_count": null,
   "metadata": {},
   "outputs": [],
   "source": [
    "# Contenido que iría en un archivo, por ejemplo, 'hello_api.py'\n",
    "\n",
    "from flask import Flask, jsonify\n",
    "\n",
    "app = Flask(__name__) # Crea una instancia de la aplicación Flask\n",
    "\n",
    "@app.route('/', methods=['GET']) # Define la ruta para la URL raíz ('/') y el método HTTP GET\n",
    "def hola_mundo():\n",
    "    # jsonify convierte un diccionario de Python a una respuesta JSON\n",
    "    return jsonify({'mensaje': '¡Hola, Mundo desde mi API con Flask!'})\n",
    "\n",
    "if __name__ == '__main__':\n",
    "     # Ejecuta la aplicación en el servidor de desarrollo de Flask\n",
    "     # debug=True activa el modo de depuración (útil para desarrollo, recarga automáticamente en cambios)\n",
    "    app.run(debug=True)"
   ]
  },
  {
   "cell_type": "markdown",
   "metadata": {},
   "source": [
    "**Explicación del Código:**\n",
    "* `from flask import Flask, jsonify`: Importamos la clase `Flask` para crear nuestra aplicación y `jsonify` para enviar respuestas JSON.\n",
    "* `app = Flask(__name__)`: Creamos una instancia de la aplicación. `__name__` es una variable especial de Python que aquí ayuda a Flask a encontrar recursos.\n",
    "* `@app.route('/', methods=['GET'])`: Este es un **decorador** que asocia la URL raíz (`/`) con la función `hola_mundo()`. `methods=['GET']` especifica que esta ruta solo responderá a peticiones HTTP GET.\n",
    "* `def hola_mundo(): ... return jsonify(...)`: Esta es la **función manejadora** de la ruta. Lo que devuelve esta función es lo que se enviará al cliente. `jsonify` serializa el diccionario a formato JSON y establece el `Content-Type` de la cabecera HTTP a `application/json`.\n",
    "* `if __name__ == '__main__': app.run(debug=True)`: Esta línea asegura que el servidor de desarrollo de Flask solo se ejecute cuando el script es ejecutado directamente (no cuando es importado como módulo). `debug=True` es muy útil durante el desarrollo.\n",
    "\n",
    "**Para ejecutar esto:**\n",
    "1. Guarda el código de arriba en un archivo llamado `hello_api.py`.\n",
    "2. Abre tu terminal, navega al directorio donde guardaste el archivo.\n",
    "3. Ejecuta `python hello_api.py`.\n",
    "4. Verás un mensaje indicando que el servidor está corriendo (usualmente en `http://127.0.0.1:5000/`).\n",
    "5. Abre tu navegador o Postman y ve a `http://127.0.0.1:5000/`. Deberías ver el JSON: `{\"mensaje\": \"¡Hola, Mundo desde mi API con Flask!\"}`."
   ]
  },
  {
   "cell_type": "markdown",
   "metadata": {},
   "source": [
    "---"
   ]
  },
  {
   "cell_type": "markdown",
   "metadata": {},
   "source": [
    "## 3. Definiendo Endpoints (Rutas) y Métodos HTTP\n",
    "\n",
    "Los endpoints son las URLs específicas que tu API expone. Cada endpoint puede responder a uno o más métodos HTTP."
   ]
  },
  {
   "cell_type": "markdown",
   "metadata": {},
   "source": [
    "```python\n",
    " from flask import Flask, jsonify, request # request se usa para acceder a datos de la petición\n",
    "\n",
    " app = Flask(__name__)\n",
    "\n",
    " @app.route('/recurso', methods=['GET'])\n",
    " def obtener_recursos():\n",
    "     return jsonify({'mensaje': 'Lista de recursos'})\n",
    "\n",
    " @app.route('/recurso', methods=['POST'])\n",
    " def crear_recurso():\n",
    "     # datos_recibidos = request.get_json() # Obtener datos JSON del cuerpo de la petición\n",
    "     # Lógica para crear el recurso con datos_recibidos...\n",
    "     return jsonify({'mensaje': 'Recurso creado'}), 201 # 201 Created\n",
    "\n",
    " @app.route('/recurso/<int:id_recurso>', methods=['GET'])\n",
    " def obtener_recurso_especifico(id_recurso):\n",
    "     # Lógica para buscar el recurso con id_recurso...\n",
    "     return jsonify({'id': id_recurso, 'data': 'Información del recurso específico'})\n",
    "\n",
    " if __name__ == '__main__':\n",
    "     app.run(debug=True)\n",
    "```\n",
    "* **Parámetros de Ruta:** En `@app.route('/recurso/<int:id_recurso>')`, `<int:id_recurso>` define un parámetro variable en la URL que se pasa a la función manejadora. `int:` es un convertidor que asegura que el ID sea un entero."
   ]
  },
  {
   "cell_type": "markdown",
   "metadata": {},
   "source": [
    "---"
   ]
  },
  {
   "cell_type": "markdown",
   "metadata": {},
   "source": [
    "## 4. Manejando Peticiones (Requests)\n",
    "\n",
    "Flask provee el objeto `request` (del módulo `flask`) para acceder a la información de la petición HTTP entrante."
   ]
  },
  {
   "cell_type": "markdown",
   "metadata": {},
   "source": [
    "### 4.1. Parámetros de Consulta (Query Parameters)\n",
    "Son los que vienen después del `?` en una URL (ej. `/buscar?termino=python&limite=10`)."
   ]
  },
  {
   "cell_type": "markdown",
   "metadata": {},
   "source": [
    "```python\n",
    " from flask import request\n",
    "\n",
    " @app.route('/buscar', methods=['GET'])\n",
    " def buscar():\n",
    "     termino_busqueda = request.args.get('termino') # Obtiene el valor del parámetro 'termino'\n",
    "     limite_resultados = request.args.get('limite', default=5, type=int) # Con valor por defecto y tipo\n",
    "     if not termino_busqueda:\n",
    "         return jsonify({'error': 'Parámetro \"termino\" es requerido'}), 400\n",
    "     return jsonify({\n",
    "         'buscando': termino_busqueda, \n",
    "         'limite': limite_resultados, \n",
    "         'resultados': [f'Resultado para {termino_busqueda} 1', f'Resultado para {termino_busqueda} 2'] # Simulación\n",
    "     })\n",
    "```"
   ]
  },
  {
   "cell_type": "markdown",
   "metadata": {},
   "source": [
    "### 4.2. Cuerpo de la Petición (Request Body - JSON)\n",
    "Para métodos como `POST` o `PUT`, los datos suelen enviarse en el cuerpo de la petición, comúnmente como JSON."
   ]
  },
  {
   "cell_type": "markdown",
   "metadata": {},
   "source": [
    "```python\n",
    " @app.route('/usuarios', methods=['POST'])\n",
    " def crear_usuario():\n",
    "     datos_usuario = request.get_json() # Parsea el cuerpo JSON a un diccionario de Python\n",
    "     if not datos_usuario or 'nombre' not in datos_usuario or 'email' not in datos_usuario:\n",
    "         return jsonify({'error': 'Faltan datos requeridos (nombre, email)'}), 400\n",
    "     \n",
    "     nombre = datos_usuario['nombre']\n",
    "     email = datos_usuario['email']\n",
    "     # Lógica para guardar el nuevo usuario...\n",
    "     print(f\"Usuario nuevo recibido: Nombre={nombre}, Email={email}\")\n",
    "     return jsonify({'mensaje': f'Usuario {nombre} creado exitosamente'}), 201\n",
    "```"
   ]
  },
  {
   "cell_type": "markdown",
   "metadata": {},
   "source": [
    "---"
   ]
  },
  {
   "cell_type": "markdown",
   "metadata": {},
   "source": [
    "## 5. Ejemplo Completo: API CRUD para una Lista de Tareas\n",
    "\n",
    "Vamos a construir una API completa con operaciones CRUD (Crear, Leer, Actualizar, Eliminar) para gestionar una lista de tareas. Usaremos una lista en memoria para almacenar los datos (en una aplicación real, usarías una base de datos)."
   ]
  },
  {
   "cell_type": "code",
   "execution_count": null,
   "metadata": {},
   "outputs": [],
   "source": [
    "# Contenido para un archivo como 'tasks_api.py'\n",
    "\n",
    "from flask import Flask, jsonify, request\n",
    "\n",
    "app_tasks = Flask(__name__) \n",
    "\n",
    "# Almacenamiento en memoria (simulación de base de datos)\n",
    "tasks = [\n",
    "    {'id': 1, 'titulo': 'Comprar leche', 'descripcion': 'Leche entera, 1 litro', 'completada': False},\n",
    "    {'id': 2, 'titulo': 'Llamar a Juan', 'descripcion': 'Recordarle reunión del viernes', 'completada': True}\n",
    " ]\n",
    "next_task_id = 3 # Para generar IDs únicos\n",
    "\n",
    "# Endpoint para OBTENER TODAS las tareas (GET)\n",
    "@app_tasks.route('/tasks', methods=['GET'])\n",
    "def get_tasks():\n",
    "    return jsonify({'tasks': tasks})\n",
    "\n",
    "# Endpoint para OBTENER UNA tarea por su ID (GET)\n",
    "@app_tasks.route('/tasks/<int:task_id>', methods=['GET'])\n",
    "def get_task(task_id):\n",
    "    task = next((task for task in tasks if task['id'] == task_id), None)\n",
    "    if task:\n",
    "        return jsonify(task)\n",
    "    return jsonify({'error': 'Tarea no encontrada'}), 404\n",
    "\n",
    "# Endpoint para CREAR una nueva tarea (POST)\n",
    "@app_tasks.route('/tasks', methods=['POST'])\n",
    "def create_task():\n",
    "    global next_task_id\n",
    "    if not request.json or 'titulo' not in request.json:\n",
    "        return jsonify({'error': 'El título es requerido'}), 400\n",
    "    \n",
    "    new_task = {\n",
    "         'id': next_task_id,\n",
    "         'titulo': request.json['titulo'],\n",
    "         'descripcion': request.json.get('descripcion', \"\"), # .get para campos opcionales\n",
    "         'completada': False\n",
    "     }\n",
    "    tasks.append(new_task)\n",
    "    next_task_id += 1\n",
    "    return jsonify(new_task), 201 # 201 Created\n",
    "\n",
    "# Endpoint para ACTUALIZAR una tarea existente (PUT)\n",
    "@app_tasks.route('/tasks/<int:task_id>', methods=['PUT'])\n",
    "def update_task(task_id):\n",
    "    task = next((task for task in tasks if task['id'] == task_id), None)\n",
    "    if not task:\n",
    "        return jsonify({'error': 'Tarea no encontrada'}), 404\n",
    "    \n",
    "    if not request.json:\n",
    "        return jsonify({'error': 'Datos no proporcionados'}), 400\n",
    "        \n",
    "    task['titulo'] = request.json.get('titulo', task['titulo'])\n",
    "    task['descripcion'] = request.json.get('descripcion', task['descripcion'])\n",
    "    task['completada'] = request.json.get('completada', task['completada'])\n",
    "    \n",
    "    return jsonify(task)\n",
    "\n",
    "# Endpoint para ELIMINAR una tarea (DELETE)\n",
    "@app_tasks.route('/tasks/<int:task_id>', methods=['DELETE'])\n",
    "def delete_task(task_id):\n",
    "    global tasks\n",
    "    task_a_eliminar = next((task for task in tasks if task['id'] == task_id), None)\n",
    "    if not task_a_eliminar:\n",
    "        return jsonify({'error': 'Tarea no encontrada'}), 404\n",
    "    \n",
    "    tasks = [task for task in tasks if task['id'] != task_id]\n",
    "    return jsonify({'mensaje': 'Tarea eliminada exitosamente'}), 200 # O 204 No Content\n",
    "\n",
    "if __name__ == '__main__':\n",
    "     #app_tasks.run(debug=True, port=5001) # Usar un puerto diferente si el 5000 está ocupado\n",
    "     app_tasks.run(debug=True) "
   ]
  },
  {
   "cell_type": "markdown",
   "metadata": {},
   "source": [
    "**Para probar esta API:**\n",
    "1. Guarda el código en `tasks_api.py`.\n",
    "2. Ejecútalo con `python tasks_api.py`.\n",
    "3. Usa una herramienta como Postman, Insomnia, o `curl` para enviar peticiones:\n",
    "    * `GET http://127.0.0.1:5000/tasks`\n",
    "    * `GET http://127.0.0.1:5000/tasks/1`\n",
    "    * `POST http://127.0.0.1:5000/tasks` con un cuerpo JSON como: `{\"titulo\": \"Nuevo Título\", \"descripcion\": \"Descripción detallada\"}`\n",
    "    * `PUT http://127.0.0.1:5000/tasks/1` con un cuerpo JSON para actualizar.\n",
    "    * `DELETE http://127.0.0.1:5000/tasks/1`"
   ]
  },
  {
   "cell_type": "markdown",
   "metadata": {},
   "source": [
    "#### Ejemplo Rápido de Prueba con `requests` (desde otro script o notebook):\n",
    "```python\n",
    "import requests\n",
    "BASE_URL = '[http://127.0.0.1:5000](http://127.0.0.1:5000)'\n",
    "\n",
    "# Obtener todas las tareas\n",
    "response = requests.get(f\"{BASE_URL}/tasks\")\n",
    "print(\"GET /tasks:\", response.json())\n",
    "\n",
    "# Crear una nueva tarea\n",
    "nueva_tarea_data = {'titulo': 'Aprender Flask API', 'descripcion': 'Completar el notebook'}\n",
    "response = requests.post(f\"{BASE_URL}/tasks\", json=nueva_tarea_data)\n",
    "print(\"\\nPOST /tasks:\", response.status_code, response.json())\n",
    "tarea_creada_id = response.json().get('id')\n",
    "\n",
    "# Obtener la tarea creada\n",
    "if tarea_creada_id:\n",
    "    response = requests.get(f\"{BASE_URL}/tasks/{tarea_creada_id}\")\n",
    "    print(f\"\\nGET /tasks/{tarea_creada_id}:\", response.json())\n",
    "```"
   ]
  },
  {
   "cell_type": "markdown",
   "metadata": {},
   "source": [
    "---"
   ]
  },
  {
   "cell_type": "markdown",
   "metadata": {},
   "source": [
    "## 6. Buenas Prácticas (Muy Brevemente)\n",
    "\n",
    "* **Usa Códigos de Estado HTTP Correctos:** Ayudan al cliente a entender el resultado de la petición.\n",
    "* **Manejo de Errores:** Proporciona mensajes de error claros en formato JSON.\n",
    "* **Validación de Datos de Entrada:** Nunca confíes en los datos del cliente. Valídalos antes de procesarlos (ej. tipos de datos, campos requeridos). Se pueden usar librerías como Marshmallow o Pydantic.\n",
    "* **Versionado de API:** Si tu API evoluciona, considera versionarla (ej. `/api/v1/recurso`, `/api/v2/recurso`) para no romper la compatibilidad con clientes antiguos.\n",
    "* **Seguridad:** Autenticación, autorización, HTTPS, etc. (temas más avanzados).\n",
    "* **Estructura del Proyecto:** Para APIs más grandes, organiza tu código en módulos y blueprints (una característica de Flask)."
   ]
  },
  {
   "cell_type": "markdown",
   "metadata": {},
   "source": [
    "---"
   ]
  },
  {
   "cell_type": "markdown",
   "metadata": {},
   "source": [
    "## 7. Resumen\n",
    "\n",
    "Flask es una herramienta excelente y accesible para comenzar a construir APIs REST en Python. Hemos visto cómo definir rutas, manejar diferentes métodos HTTP, trabajar con datos JSON en peticiones y respuestas, y construir un ejemplo CRUD básico.\n",
    "\n",
    "Con estos fundamentos, puedes empezar a crear servicios backend que interactúen con otras aplicaciones o frontends."
   ]
  },
  {
   "cell_type": "markdown",
   "metadata": {},
   "source": [
    "## (Opcional) Ejercicio Práctico ✍️\n",
    "\n",
    "1.  **Extiende la API de Tareas:**\n",
    "    * Añade un campo `prioridad` (ej. 'alta', 'media', 'baja') a las tareas.\n",
    "    * Modifica el endpoint `POST` para aceptar este nuevo campo (puede ser opcional).\n",
    "    * Modifica el endpoint `PUT` para permitir actualizar la prioridad.\n",
    "\n",
    "2.  **Crea una Nueva API CRUD:**\n",
    "    * Diseña y construye una API para gestionar una colección de \"libros\". Cada libro debe tener al menos un `id`, `titulo`, `autor` y `anio_publicacion`.\n",
    "    * Implementa los endpoints GET (todos), GET (específico), POST, PUT y DELETE para los libros."
   ]
  }
 ],
 "metadata": {
  "kernelspec": {
   "display_name": "Python 3",
   "language": "python",
   "name": "python3"
  },
  "language_info": {
   "codemirror_mode": {
    "name": "ipython",
    "version": 3
   },
   "file_extension": ".py",
   "mimetype": "text/x-python",
   "name": "python",
   "nbconvert_exporter": "python",
   "pygments_lexer": "ipython3",
   "version": "3.x.x"
  }
 },
 "nbformat": 4,
 "nbformat_minor": 2
}
