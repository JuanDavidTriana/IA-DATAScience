{
 "cells": [
  {
   "cell_type": "markdown",
   "metadata": {},
   "source": [
    "# Módulo 2: Preprocesamiento de Datos y Desarrollo Backend\n",
    "## Clase 4: Conceptos Básicos de APIs 🌐"
   ]
  },
  {
   "cell_type": "markdown",
   "metadata": {},
   "source": [
    "### Introducción\n",
    "\n",
    "En el desarrollo de software moderno, raramente una aplicación funciona de manera completamente aislada. Las aplicaciones necesitan comunicarse entre sí, compartir datos y acceder a funcionalidades de otros servicios. Aquí es donde entran en juego las **APIs (Interfaces de Programación de Aplicaciones)**.\n",
    "\n",
    "En esta clase, exploraremos:\n",
    "* ¿Qué es exactamente una API?\n",
    "* ¿Cómo funcionan, especialmente las APIs web?\n",
    "* ¿Por qué son tan fundamentales para casi todas las aplicaciones que usamos hoy en día?"
   ]
  },
  {
   "cell_type": "markdown",
   "metadata": {},
   "source": [
    "---"
   ]
  },
  {
   "cell_type": "markdown",
   "metadata": {},
   "source": [
    "## ¿Qué es una API?\n",
    "\n",
    "**API** son las siglas de **Application Programming Interface** (Interfaz de Programación de Aplicaciones).\n",
    "\n",
    "En términos simples, una API es un **conjunto de reglas, protocolos y herramientas que permite que diferentes aplicaciones de software se comuniquen entre sí**. Actúa como un intermediario o un \"contrato\" que define cómo un software puede solicitar servicios o datos de otro software, y cómo se devolverán esos servicios o datos.\n",
    "\n",
    "**Analogías para entender las APIs:**\n",
    "\n",
    "1.  **El Mesero en un Restaurante 🧑‍🍳:**\n",
    "    * Tú (el cliente/aplicación cliente) quieres comida (datos o servicios).\n",
    "    * La cocina (el servidor/aplicación servidora) prepara la comida.\n",
    "    * El mesero (la API) toma tu pedido (petición), lo lleva a la cocina, y luego te trae la comida (respuesta). No necesitas saber cómo funciona la cocina, solo cómo interactuar con el mesero.\n",
    "\n",
    "2.  **Un Enchufe Eléctrico 🔌:**\n",
    "    * Tienes un dispositivo que necesita electricidad (aplicación cliente).\n",
    "    * La red eléctrica (el servicio) provee la electricidad.\n",
    "    * El enchufe (la API) es una interfaz estandarizada que te permite acceder a la electricidad de forma segura y predecible, sin necesidad de entender toda la complejidad de la red eléctrica.\n",
    "\n",
    "**La idea central:** Una API permite que los desarrolladores utilicen funcionalidades de otros programas o servicios sin necesidad de conocer los detalles de su implementación interna. Simplemente necesitan saber qué \"peticiones\" pueden hacer y qué \"respuestas\" esperar."
   ]
  },
  {
   "cell_type": "markdown",
   "metadata": {},
   "source": [
    "#### Tipos Comunes de APIs (Breve Mención)\n",
    "Existen varios tipos de APIs, pero nos centraremos principalmente en las APIs Web:\n",
    "* **APIs Web (o APIs HTTP):** Son las más comunes en el desarrollo moderno. Permiten la comunicación entre aplicaciones a través de internet usando protocolos HTTP/HTTPS. Ejemplos:\n",
    "    * **REST (Representational State Transfer):** Un estilo arquitectónico muy popular para diseñar APIs web. Es el que más exploraremos.\n",
    "    * **SOAP (Simple Object Access Protocol):** Un protocolo más antiguo y formal, basado en XML.\n",
    "    * **GraphQL:** Un lenguaje de consulta para APIs que permite a los clientes solicitar exactamente los datos que necesitan.\n",
    "* **APIs de Librerías/Frameworks:** Interfaces expuestas por librerías de código (ej. las funciones que usas de Pandas o Scikit-learn son parte de sus APIs).\n",
    "* **APIs de Sistemas Operativos:** Permiten a las aplicaciones interactuar con el sistema operativo (ej. para acceder a archivos, hardware, etc.)."
   ]
  },
  {
   "cell_type": "markdown",
   "metadata": {},
   "source": [
    "---"
   ]
  },
  {
   "cell_type": "markdown",
   "metadata": {},
   "source": [
    "## ¿Cómo Funciona una API Web (Ejemplo: API REST)?\n",
    "\n",
    "Las APIs Web RESTful son muy comunes. Funcionan sobre el protocolo HTTP y se basan en el modelo cliente-servidor:\n",
    "\n",
    "1.  El **Cliente** (tu aplicación, un navegador, una app móvil) necesita realizar una operación o obtener datos.\n",
    "2.  El Cliente envía una **Petición HTTP (Request)** a un **Endpoint** específico en el Servidor.\n",
    "3.  El **Servidor** (donde reside la API y los datos/lógica) procesa la petición.\n",
    "4.  El Servidor envía una **Respuesta HTTP (Response)** de vuelta al Cliente, usualmente con los datos solicitados (a menudo en formato JSON) y un código de estado.\n",
    "\n",
    "**Componentes Clave de una Petición HTTP para una API REST:**\n",
    "\n",
    "* **Endpoint (URL):** La dirección web específica a la que se dirige la petición. Define el recurso al que se quiere acceder.\n",
    "    * Ejemplo: `https://api.ejemplo.com/v1/productos` (para obtener una lista de productos) o `https://api.ejemplo.com/v1/productos/123` (para obtener el producto con ID 123).\n",
    "\n",
    "* **Método HTTP (Verbo):** Define la acción que se desea realizar sobre el recurso.\n",
    "    * `GET`: Solicitar/leer datos de un recurso.\n",
    "    * `POST`: Enviar datos para crear un nuevo recurso.\n",
    "    * `PUT`: Enviar datos para actualizar completamente un recurso existente.\n",
    "    * `PATCH`: Enviar datos para actualizar parcialmente un recurso existente.\n",
    "    * `DELETE`: Eliminar un recurso.\n",
    "\n",
    "* **Cabeceras (Headers):** Contienen metadatos sobre la petición, como:\n",
    "    * `Content-Type`: El formato de los datos enviados en el cuerpo (ej. `application/json`).\n",
    "    * `Accept`: El formato de datos que el cliente espera en la respuesta (ej. `application/json`).\n",
    "    * `Authorization`: Información para autenticación (ej. una API Key, un token Bearer).\n",
    "\n",
    "* **Cuerpo (Body/Payload):** (Para métodos `POST`, `PUT`, `PATCH`) Contiene los datos que se envían al servidor, usualmente en formato JSON.\n",
    "\n",
    "**Componentes Clave de una Respuesta HTTP:**\n",
    "\n",
    "* **Código de Estado HTTP:** Un número de 3 dígitos que indica el resultado de la petición.\n",
    "    * `200 OK`: Petición exitosa (para GET, PUT, PATCH, DELETE).\n",
    "    * `201 Created`: Recurso creado exitosamente (para POST).\n",
    "    * `204 No Content`: Petición exitosa pero no hay contenido para devolver (ej. después de un DELETE).\n",
    "    * `400 Bad Request`: La petición del cliente es incorrecta o malformada.\n",
    "    * `401 Unauthorized`: El cliente no está autenticado.\n",
    "    * `403 Forbidden`: El cliente está autenticado pero no tiene permiso para acceder al recurso.\n",
    "    * `404 Not Found`: El recurso solicitado no existe.\n",
    "    * `500 Internal Server Error`: Hubo un error en el servidor.\n",
    "\n",
    "* **Cabeceras (Headers):** Metadatos sobre la respuesta (ej. `Content-Type`).\n",
    "\n",
    "* **Cuerpo (Body/Payload):** Los datos solicitados por el cliente o un mensaje de error, comúnmente en formato **JSON** (JavaScript Object Notation) o XML.\n",
    "\n",
    "    **Ejemplo de JSON:**\n",
    "    ```json\n",
    "    {\n",
    "      \"id_usuario\": 101,\n",
    "      \"nombre\": \"Elena Gómez\",\n",
    "      \"email\": \"elena.gomez@example.com\",\n",
    "      \"pedidos_activos\": [\n",
    "        {\"id_pedido\": \"A542\", \"total\": 75.50},\n",
    "        {\"id_pedido\": \"B103\", \"total\": 120.00}\n",
    "      ]\n",
    "    }\n",
    "    ```"
   ]
  },
  {
   "cell_type": "markdown",
   "metadata": {},
   "source": [
    "---"
   ]
  },
  {
   "cell_type": "markdown",
   "metadata": {},
   "source": [
    "## ¿Por qué son Esenciales las APIs para las Aplicaciones Modernas?\n",
    "\n",
    "Las APIs son el pegamento que une el ecosistema digital actual. Su importancia radica en varios factores:\n",
    "\n",
    "1.  **Modularidad y Reutilización 🧱:**\n",
    "    * Permiten descomponer aplicaciones complejas en servicios más pequeños e independientes (microservicios), cada uno con su propia API. Estos servicios pueden ser desarrollados, desplegados y escalados de forma independiente y reutilizados por múltiples aplicaciones.\n",
    "\n",
    "2.  **Integración de Sistemas 🔗:**\n",
    "    * Facilitan que sistemas dispares, incluso aquellos construidos con diferentes tecnologías, puedan comunicarse e intercambiar datos. Ejemplo: una tienda online integra una API de pagos (Stripe, PayPal), una API de envíos (FedEx, UPS), y una API de marketing por correo (Mailchimp).\n",
    "\n",
    "3.  **Abstracción de Complejidad 🙈:**\n",
    "    * Ocultan los detalles internos y la complejidad de un servicio. Como desarrollador, no necesitas saber cómo Stripe procesa internamente una tarjeta de crédito; solo necesitas saber cómo usar su API para solicitar un pago.\n",
    "\n",
    "4.  **Innovación y Agilidad 🚀:**\n",
    "    * Permiten a las empresas exponer sus datos o funcionalidades para que terceros (o equipos internos) puedan construir nuevas aplicaciones y servicios sobre ellos. Esto fomenta la innovación y acelera el desarrollo. Piensa en todas las apps que usan la API de Google Maps.\n",
    "\n",
    "5.  **Escalabilidad :**\n",
    "    * Los servicios expuestos a través de APIs pueden escalarse de forma independiente según la demanda, sin afectar a toda la aplicación monolítica.\n",
    "\n",
    "6.  **Automatización 🤖:**\n",
    "    * Permiten la automatización de tareas y flujos de trabajo que involucran la interacción entre diferentes software. Por ejemplo, actualizar automáticamente un CRM cuando se realiza una venta en una tienda online.\n",
    "\n",
    "7.  **Acceso a Datos y Funcionalidades Externas 🌍:**\n",
    "    * En lugar de construir todo desde cero, las aplicaciones pueden consumir APIs para obtener datos (clima, noticias, finanzas) o funcionalidades (traducción, reconocimiento de imágenes, envío de SMS).\n",
    "\n",
    "8.  **Desarrollo Frontend-Backend Desacoplado ↔️:**\n",
    "    * Las aplicaciones web y móviles (frontend) se comunican con la lógica de negocio y la base de datos (backend) a través de APIs. Esto permite que los equipos de frontend y backend trabajen de forma independiente y utilicen diferentes tecnologías."
   ]
  },
  {
   "cell_type": "markdown",
   "metadata": {},
   "source": [
    "---"
   ]
  },
  {
   "cell_type": "markdown",
   "metadata": {},
   "source": [
    "## Ejemplos Prácticos de Interacción con APIs\n",
    "\n",
    "Para interactuar con APIs web desde Python, la librería `requests` es la más popular y fácil de usar."
   ]
  },
  {
   "cell_type": "code",
   "execution_count": 1,
   "metadata": {},
   "outputs": [],
   "source": [
    "import requests\n",
    "import json # Para formatear la salida JSON y hacerla más legible"
   ]
  },
  {
   "cell_type": "markdown",
   "metadata": {},
   "source": [
    "### Ejemplo 1: Obtener datos de JSONPlaceholder (API de prueba)\n",
    "\n",
    "JSONPlaceholder es una API REST online gratuita para pruebas y prototipado. Vamos a obtener una lista de \"todos\" (tareas pendientes)."
   ]
  },
  {
   "cell_type": "code",
   "execution_count": 2,
   "metadata": {},
   "outputs": [
    {
     "name": "stdout",
     "output_type": "stream",
     "text": [
      "Código de Estado: 200\n",
      "\n",
      "Primeros 3 'todos':\n",
      "{\n",
      "  \"userId\": 1,\n",
      "  \"id\": 1,\n",
      "  \"title\": \"delectus aut autem\",\n",
      "  \"completed\": false\n",
      "}\n",
      "{\n",
      "  \"userId\": 1,\n",
      "  \"id\": 2,\n",
      "  \"title\": \"quis ut nam facilis et officia qui\",\n",
      "  \"completed\": false\n",
      "}\n",
      "{\n",
      "  \"userId\": 1,\n",
      "  \"id\": 3,\n",
      "  \"title\": \"fugiat veniam minus\",\n",
      "  \"completed\": false\n",
      "}\n",
      "\n",
      "Total de 'todos' recibidos: 200\n"
     ]
    }
   ],
   "source": [
    "url_todos = \"https://jsonplaceholder.typicode.com/todos\"\n",
    "\n",
    "try:\n",
    "    # Realizar una petición GET\n",
    "    response_todos = requests.get(url_todos)\n",
    "    \n",
    "    # Verificar el código de estado\n",
    "    print(f\"Código de Estado: {response_todos.status_code}\")\n",
    "    \n",
    "    # Si la petición fue exitosa (código 200)\n",
    "    if response_todos.status_code == 200:\n",
    "        # Convertir la respuesta JSON en un objeto Python (lista de diccionarios)\n",
    "        data_todos = response_todos.json()\n",
    "        \n",
    "        # Imprimir los primeros 3 \"todos\" de forma legible\n",
    "        print(\"\\nPrimeros 3 'todos':\")\n",
    "        for i in range(min(3, len(data_todos))):\n",
    "            print(json.dumps(data_todos[i], indent=2)) # indent=2 para pretty print\n",
    "            \n",
    "        # ¿Cuántos \"todos\" recibimos en total?\n",
    "        print(f\"\\nTotal de 'todos' recibidos: {len(data_todos)}\")\n",
    "    else:\n",
    "        print(f\"Error en la petición: {response_todos.status_code} - {response_todos.text}\")\n",
    "\n",
    "except requests.exceptions.RequestException as e:\n",
    "    print(f\"Error de conexión o en la petición: {e}\")"
   ]
  },
  {
   "cell_type": "markdown",
   "metadata": {},
   "source": [
    "### Ejemplo 2: Obtener el precio actual de Bitcoin (API de CoinDesk)\n",
    "\n",
    "CoinDesk ofrece una API pública para obtener información sobre el precio de Bitcoin."
   ]
  },
  {
   "cell_type": "code",
   "execution_count": null,
   "metadata": {},
   "outputs": [
    {
     "name": "stdout",
     "output_type": "stream",
     "text": [
      "Error de conexión o en la petición: HTTPSConnectionPool(host='api.coindesk.com', port=443): Max retries exceeded with url: /v1/bpi/currentprice.json (Caused by NameResolutionError(\"<urllib3.connection.HTTPSConnection object at 0x0000019584E5AC10>: Failed to resolve 'api.coindesk.com' ([Errno 11001] getaddrinfo failed)\"))\n"
     ]
    },
    {
     "ename": "",
     "evalue": "",
     "output_type": "error",
     "traceback": [
      "\u001b[1;31mThe Kernel crashed while executing code in the current cell or a previous cell. \n",
      "\u001b[1;31mPlease review the code in the cell(s) to identify a possible cause of the failure. \n",
      "\u001b[1;31mClick <a href='https://aka.ms/vscodeJupyterKernelCrash'>here</a> for more info. \n",
      "\u001b[1;31mView Jupyter <a href='command:jupyter.viewOutput'>log</a> for further details."
     ]
    }
   ],
   "source": [
    "url_bitcoin_price = \"https://api.coindesk.com/v1/bpi/currentprice.json\"\n",
    "\n",
    "try:\n",
    "    response_bitcoin = requests.get(url_bitcoin_price)\n",
    "    print(f\"Código de Estado: {response_bitcoin.status_code}\")\n",
    "    \n",
    "    if response_bitcoin.status_code == 200:\n",
    "        data_bitcoin = response_bitcoin.json()\n",
    "        print(\"\\nRespuesta completa de la API de CoinDesk:\")\n",
    "        print(json.dumps(data_bitcoin, indent=2))\n",
    "        \n",
    "        # Extraer información específica\n",
    "        tiempo_actualizacion = data_bitcoin['time']['updated']\n",
    "        precio_usd = data_bitcoin['bpi']['USD']['rate_float']\n",
    "        precio_eur = data_bitcoin['bpi']['EUR']['rate_float']\n",
    "        \n",
    "        print(f\"\\nInformación del Precio de Bitcoin ({tiempo_actualizacion}):\")\n",
    "        print(f\"USD: ${precio_usd:,.2f}\")\n",
    "        print(f\"EUR: €{precio_eur:,.2f}\")\n",
    "    else:\n",
    "        print(f\"Error en la petición: {response_bitcoin.status_code} - {response_bitcoin.text}\")\n",
    "\n",
    "except requests.exceptions.RequestException as e:\n",
    "    print(f\"Error de conexión o en la petición: {e}\")"
   ]
  },
  {
   "cell_type": "markdown",
   "metadata": {},
   "source": [
    "---"
   ]
  },
  {
   "cell_type": "markdown",
   "metadata": {},
   "source": [
    "## Autenticación en APIs (Breve Mención)\n",
    "\n",
    "Muchos APIs, especialmente aquellos que manejan datos sensibles o tienen límites de uso, requieren **autenticación** para verificar la identidad del cliente y asegurar que tiene los permisos necesarios.\n",
    "\n",
    "Algunos métodos comunes de autenticación incluyen:\n",
    "* **API Keys (Claves de API):** Una cadena única que se envía usualmente en las cabeceras o como un parámetro de la URL.\n",
    "    * Ejemplo (cabecera): `Authorization: Bearer MI_API_KEY_SECRETA` o `X-Api-Key: MI_API_KEY`\n",
    "* **OAuth (1.0a, 2.0):** Un estándar abierto para delegación de acceso. Comúnmente usado para permitir que aplicaciones de terceros accedan a recursos del usuario en otro servicio (ej. \"Iniciar sesión con Google/Facebook\").\n",
    "* **Tokens (ej. JWT - JSON Web Tokens):** Tokens firmados que contienen información (claims) sobre el usuario y sus permisos, enviados usualmente en la cabecera `Authorization`.\n",
    "* **Autenticación Básica (Basic Auth):** Envía un nombre de usuario y contraseña codificados en Base64 en la cabecera `Authorization`. Menos seguro si no se usa sobre HTTPS.\n",
    "\n",
    "La documentación de cada API especificará el método de autenticación requerido."
   ]
  },
  {
   "cell_type": "markdown",
   "metadata": {},
   "source": [
    "---"
   ]
  },
  {
   "cell_type": "markdown",
   "metadata": {},
   "source": [
    "## Resumen\n",
    "\n",
    "Las APIs son **contratos digitales** que permiten que diferentes piezas de software interactúen de manera estandarizada. Son la columna vertebral de la web moderna y de las aplicaciones distribuidas, facilitando:\n",
    "\n",
    "* La **integración** de servicios.\n",
    "* La **reutilización** de funcionalidades.\n",
    "* La **abstracción** de la complejidad.\n",
    "* La **innovación** y el desarrollo ágil.\n",
    "\n",
    "Entender cómo consumir APIs (y eventualmente, cómo diseñarlas y construirlas) es una habilidad esencial para cualquier desarrollador de software, científico de datos o ingeniero de datos."
   ]
  },
  {
   "cell_type": "markdown",
   "metadata": {},
   "source": [
    "---"
   ]
  },
  {
   "cell_type": "markdown",
   "metadata": {},
   "source": [
    "## (Opcional) Ejercicio Conceptual 🤔\n",
    "\n",
    "Piensa en una aplicación que usas con frecuencia (por ejemplo, Spotify, Instagram, Uber, Netflix, una app de domicilios, etc.).\n",
    "\n",
    "1.  **Identifica al menos 3 funcionalidades clave de esa aplicación.**\n",
    "2.  **Para cada funcionalidad, imagina qué tipo de APIs internas podría estar utilizando la aplicación.** (Ej. si es Spotify: API de búsqueda de canciones, API de perfiles de usuario, API de playlists, API de reproducción).\n",
    "3.  **¿Podría esta aplicación estar consumiendo APIs de terceros (externas)?** Si es así, ¿para qué? (Ej. Spotify podría usar una API de letras de canciones, una API de pagos para suscripciones; Uber usa intensivamente APIs de mapas)."
   ]
  }
 ],
 "metadata": {
  "kernelspec": {
   "display_name": "Python 3",
   "language": "python",
   "name": "python3"
  },
  "language_info": {
   "codemirror_mode": {
    "name": "ipython",
    "version": 3
   },
   "file_extension": ".py",
   "mimetype": "text/x-python",
   "name": "python",
   "nbconvert_exporter": "python",
   "pygments_lexer": "ipython3",
   "version": "3.13.3"
  }
 },
 "nbformat": 4,
 "nbformat_minor": 2
}
