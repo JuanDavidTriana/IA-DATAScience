{
 "cells": [
  {
   "cell_type": "markdown",
   "metadata": {},
   "source": [
    "# Revisión de Estructuras Esenciales en Python"
   ]
  },
  {
   "cell_type": "markdown",
   "metadata": {},
   "source": [
    "Python es un lenguaje de programación versátil y potente, y su simplicidad se debe en gran parte a sus estructuras de datos y control de flujo intuitivas. A continuación, revisaremos algunas de las más fundamentales: listas, diccionarios, bucles y funciones."
   ]
  },
  {
   "cell_type": "markdown",
   "metadata": {},
   "source": [
    "## Listas\n",
    "\n",
    "Las **listas** son colecciones ordenadas y mutables de elementos. Esto significa que puedes cambiar su contenido (añadir, eliminar o modificar elementos) después de su creación. Los elementos en una lista pueden ser de diferentes tipos. Se definen con corchetes `[]`.\n",
    "\n",
    "**Características principales:**\n",
    "* **Ordenadas:** Mantienen el orden en que se insertan los elementos.\n",
    "* **Mutables:** Se pueden modificar.\n",
    "* **Heterogéneas:** Pueden contener elementos de distintos tipos de datos.\n",
    "* **Indexadas:** Se accede a los elementos mediante un índice numérico (empezando en 0)."
   ]
  },
  {
   "cell_type": "code",
   "execution_count": null,
   "metadata": {},
   "outputs": [],
   "source": [
    "# Crear una lista vacía\n",
    "mi_lista_vacia = []\n",
    "print(f\"Lista vacía: {mi_lista_vacia}\")\n",
    "\n",
    "# Crear una lista con elementos\n",
    "frutas = [\"manzana\", \"banana\", \"cereza\", \"naranja\"]\n",
    "print(f\"Lista de frutas: {frutas}\")\n",
    "\n",
    "# Acceder a un elemento por su índice\n",
    "primera_fruta = frutas[0] # Accede a \"manzana\"\n",
    "print(f\"Primera fruta: {primera_fruta}\")\n",
    "\n",
    "# Modificar un elemento\n",
    "frutas[1] = \"pera\" # Cambia \"banana\" por \"pera\"\n",
    "print(f\"Lista modificada: {frutas}\")\n",
    "\n",
    "# Añadir un elemento al final\n",
    "frutas.append(\"uva\")\n",
    "print(f\"Lista con nueva fruta al final: {frutas}\")\n",
    "\n",
    "# Insertar un elemento en una posición específica\n",
    "frutas.insert(1, \"kiwi\") # Inserta \"kiwi\" en la posición 1\n",
    "print(f\"Lista con fruta insertada: {frutas}\")\n",
    "\n",
    "# Eliminar un elemento por su valor\n",
    "if \"cereza\" in frutas:\n",
    "    frutas.remove(\"cereza\")\n",
    "print(f\"Lista sin cereza: {frutas}\")\n",
    "\n",
    "# Eliminar un elemento por su índice\n",
    "fruta_eliminada = frutas.pop(2) # Elimina y devuelve el elemento en la posición 2\n",
    "print(f\"Fruta eliminada: {fruta_eliminada}\")\n",
    "print(f\"Lista después de pop: {frutas}\")\n",
    "\n",
    "# Longitud de la lista\n",
    "numero_de_frutas = len(frutas)\n",
    "print(f\"Número de frutas: {numero_de_frutas}\")\n",
    "\n",
    "# Verificar si un elemento está en la lista\n",
    "if \"manzana\" in frutas:\n",
    "    print(\"La manzana está en la lista.\")"
   ]
  },
  {
   "cell_type": "markdown",
   "metadata": {},
   "source": [
    "---"
   ]
  },
  {
   "cell_type": "markdown",
   "metadata": {},
   "source": [
    "## Diccionarios\n",
    "\n",
    "Los **diccionarios** son colecciones desordenadas (en versiones de Python anteriores a 3.7, ahora son ordenadas por inserción desde 3.7+) de pares clave-valor. Son mutables y cada clave debe ser única y de un tipo inmutable (como strings, números o tuplas). Se definen con llaves `{}`.\n",
    "\n",
    "**Características principales:**\n",
    "* **Pares Clave-Valor:** Almacenan datos como `clave: valor`.\n",
    "* **Mutables:** Se pueden modificar.\n",
    "* **Claves Únicas:** No puede haber claves repetidas.\n",
    "* **Acceso por Clave:** Se accede a los valores utilizando sus claves."
   ]
  },
  {
   "cell_type": "code",
   "execution_count": null,
   "metadata": {},
   "outputs": [],
   "source": [
    "# Crear un diccionario vacío\n",
    "mi_diccionario_vacio = {}\n",
    "print(f\"Diccionario vacío: {mi_diccionario_vacio}\")\n",
    "\n",
    "# Crear un diccionario con elementos\n",
    "persona = {\n",
    "    \"nombre\": \"Ana\",\n",
    "    \"edad\": 30,\n",
    "    \"ciudad\": \"Madrid\",\n",
    "    \"profesion\": \"Ingeniera\"\n",
    "}\n",
    "print(f\"Diccionario persona: {persona}\")\n",
    "\n",
    "# Acceder a un valor usando su clave\n",
    "nombre_persona = persona[\"nombre\"]\n",
    "print(f\"Nombre de la persona: {nombre_persona}\")\n",
    "\n",
    "# Usar el método get() para acceder (evita errores si la clave no existe)\n",
    "ocupacion = persona.get(\"ocupacion\") # Devuelve None si no existe\n",
    "ocupacion_con_default = persona.get(\"ocupacion\", \"No especificada\")\n",
    "print(f\"Ocupación (get): {ocupacion}\")\n",
    "print(f\"Ocupación con valor por defecto: {ocupacion_con_default}\")\n",
    "\n",
    "# Modificar un valor\n",
    "persona[\"edad\"] = 31\n",
    "print(f\"Diccionario con edad modificada: {persona}\")\n",
    "\n",
    "# Añadir un nuevo par clave-valor\n",
    "persona[\"pais\"] = \"España\"\n",
    "print(f\"Diccionario con nuevo par: {persona}\")\n",
    "\n",
    "# Eliminar un par clave-valor\n",
    "if \"profesion\" in persona:\n",
    "    profesion_eliminada = persona.pop(\"profesion\")\n",
    "    print(f\"Profesión eliminada: {profesion_eliminada}\")\n",
    "print(f\"Diccionario después de pop: {persona}\")\n",
    "\n",
    "# Obtener todas las claves\n",
    "claves = persona.keys()\n",
    "print(f\"Claves del diccionario: {list(claves)}\")\n",
    "\n",
    "# Obtener todos los valores\n",
    "valores = persona.values()\n",
    "print(f\"Valores del diccionario: {list(valores)}\")\n",
    "\n",
    "# Obtener todos los pares clave-valor (items)\n",
    "items = persona.items() # Devuelve una vista de tuplas (clave, valor)\n",
    "print(f\"Items del diccionario: {list(items)}\")\n",
    "\n",
    "# Verificar si una clave está en el diccionario\n",
    "if \"ciudad\" in persona:\n",
    "    print(\"La clave 'ciudad' está en el diccionario.\")"
   ]
  },
  {
   "cell_type": "markdown",
   "metadata": {},
   "source": [
    "---"
   ]
  },
  {
   "cell_type": "markdown",
   "metadata": {},
   "source": [
    "## Bucles\n",
    "\n",
    "Los **bucles** permiten ejecutar un bloque de código repetidamente. Los dos tipos principales de bucles en Python son `for` y `while`."
   ]
  },
  {
   "cell_type": "markdown",
   "metadata": {},
   "source": [
    "### Bucle `for`\n",
    "Se utiliza para iterar sobre una secuencia (como una lista, tupla, diccionario, conjunto o cadena de texto) o cualquier objeto iterable."
   ]
  },
  {
   "cell_type": "code",
   "execution_count": null,
   "metadata": {},
   "outputs": [],
   "source": [
    "# Iterar sobre una lista\n",
    "frutas_bucle = [\"manzana\", \"pera\", \"uva\"]\n",
    "print(\"\\nIterando sobre una lista de frutas:\")\n",
    "for fruta in frutas_bucle:\n",
    "    print(fruta)\n",
    "\n",
    "# Iterar usando range() para generar una secuencia de números\n",
    "print(\"\\nIterando con range():\")\n",
    "for i in range(5): # Genera números del 0 al 4\n",
    "    print(i)\n",
    "\n",
    "print(\"\\nIterando con range(inicio, fin):\")\n",
    "for i in range(2, 6): # Genera números del 2 al 5\n",
    "    print(i)\n",
    "\n",
    "print(\"\\nIterando con range(inicio, fin, paso):\")\n",
    "for i in range(0, 10, 2): # Genera números del 0 al 9, de 2 en 2\n",
    "    print(i)\n",
    "\n",
    "# Iterar sobre las claves de un diccionario\n",
    "persona_bucle = {\"nombre\": \"Luis\", \"edad\": 25}\n",
    "print(\"\\nIterando sobre las claves de un diccionario:\")\n",
    "for clave in persona_bucle: # Por defecto itera sobre las claves\n",
    "    print(f\"{clave}: {persona_bucle[clave]}\")\n",
    "\n",
    "# Iterar sobre los valores de un diccionario\n",
    "print(\"\\nIterando sobre los valores de un diccionario:\")\n",
    "for valor in persona_bucle.values():\n",
    "    print(valor)\n",
    "\n",
    "# Iterar sobre los pares clave-valor de un diccionario\n",
    "print(\"\\nIterando sobre los items (clave-valor) de un diccionario:\")\n",
    "for clave, valor in persona_bucle.items():\n",
    "    print(f\"{clave} -> {valor}\")"
   ]
  },
  {
   "cell_type": "markdown",
   "metadata": {},
   "source": [
    "### Bucle `while`\n",
    "Se utiliza para repetir un bloque de código mientras una condición sea verdadera."
   ]
  },
  {
   "cell_type": "code",
   "execution_count": null,
   "metadata": {},
   "outputs": [],
   "source": [
    "# Bucle while simple\n",
    "print(\"\\nBucle while simple:\")\n",
    "contador = 0\n",
    "while contador < 5:\n",
    "    print(f\"Contador es: {contador}\")\n",
    "    contador += 1 # Es crucial modificar la variable de condición para evitar bucles infinitos\n",
    "\n",
    "# Bucle while con break\n",
    "print(\"\\nBucle while con break:\")\n",
    "numero = 0\n",
    "while True: # Bucle potencialmente infinito\n",
    "    print(f\"Número actual: {numero}\")\n",
    "    if numero == 3:\n",
    "        print(\"Saliendo del bucle con break.\")\n",
    "        break # Termina el bucle inmediatamente\n",
    "    numero += 1\n",
    "\n",
    "# Bucle while con continue\n",
    "print(\"\\nBucle while con continue:\")\n",
    "i = 0\n",
    "while i < 5:\n",
    "    i += 1\n",
    "    if i == 3:\n",
    "        print(\"Saltando la iteración 3 con continue.\")\n",
    "        continue # Salta el resto del código en esta iteración y va a la siguiente\n",
    "    print(f\"Iteración del while: {i}\")"
   ]
  },
  {
   "cell_type": "markdown",
   "metadata": {},
   "source": [
    "---"
   ]
  },
  {
   "cell_type": "markdown",
   "metadata": {},
   "source": [
    "## Funciones\n",
    "\n",
    "Las **funciones** son bloques de código reutilizables que realizan una tarea específica. Permiten organizar el código en partes más pequeñas y manejables, mejorando la legibilidad y facilitando la reutilización. Se definen con la palabra clave `def`.\n",
    "\n",
    "**Características principales:**\n",
    "* **Reutilizables:** Pueden ser llamadas múltiples veces.\n",
    "* **Modulares:** Dividen programas grandes en partes más pequeñas.\n",
    "* **Parámetros (Argumentos):** Pueden recibir datos de entrada.\n",
    "* **Valor de Retorno:** Pueden devolver un resultado."
   ]
  },
  {
   "cell_type": "code",
   "execution_count": null,
   "metadata": {},
   "outputs": [],
   "source": [
    "# Definir una función simple sin parámetros ni retorno\n",
    "def saludar():\n",
    "    print(\"¡Hola! Bienvenido/a.\")\n",
    "\n",
    "# Llamar a la función\n",
    "print(\"\\nLlamando a la función saludar:\")\n",
    "saludar()\n",
    "\n",
    "# Definir una función con parámetros\n",
    "def saludar_persona(nombre):\n",
    "    print(f\"¡Hola, {nombre}! ¿Cómo estás?\")\n",
    "\n",
    "# Llamar a la función con un argumento\n",
    "print(\"\\nLlamando a la función saludar_persona:\")\n",
    "saludar_persona(\"Carlos\")\n",
    "saludar_persona(\"Sofía\")\n",
    "\n",
    "# Definir una función con parámetros y valor de retorno\n",
    "def sumar(a, b):\n",
    "    resultado = a + b\n",
    "    return resultado\n",
    "\n",
    "# Llamar a la función y almacenar el resultado\n",
    "print(\"\\nLlamando a la función sumar:\")\n",
    "suma_total = sumar(5, 3)\n",
    "print(f\"El resultado de la suma es: {suma_total}\")\n",
    "print(f\"También podemos imprimir directamente: {sumar(10, 20)}\")\n",
    "\n",
    "# Función con parámetros por defecto\n",
    "def potencia(base, exponente=2): # exponente tiene un valor por defecto de 2\n",
    "    return base ** exponente\n",
    "\n",
    "print(\"\\nLlamando a la función potencia:\")\n",
    "print(f\"5 elevado a 2 (usando valor por defecto): {potencia(5)}\")\n",
    "print(f\"3 elevado a 3 (especificando exponente): {potencia(3, 3)}\")\n",
    "\n",
    "# Función que retorna múltiples valores (devuelve una tupla)\n",
    "def obtener_coordenadas():\n",
    "    x = 10\n",
    "    y = 20\n",
    "    return x, y # Retorna una tupla (10, 20)\n",
    "\n",
    "print(\"\\nLlamando a la función obtener_coordenadas:\")\n",
    "coord_x, coord_y = obtener_coordenadas() # Desempaquetado de tupla\n",
    "print(f\"Coordenada X: {coord_x}, Coordenada Y: {coord_y}\")\n",
    "\n",
    "tupla_coordenadas = obtener_coordenadas()\n",
    "print(f\"Coordenadas como tupla: {tupla_coordenadas}\")"
   ]
  },
  {
   "cell_type": "markdown",
   "metadata": {},
   "source": [
    "---"
   ]
  },
  {
   "cell_type": "markdown",
   "metadata": {},
   "source": [
    "## Ejercicios Prácticos"
   ]
  },
  {
   "cell_type": "markdown",
   "metadata": {},
   "source": [
    "### Ejercicios con Listas"
   ]
  },
  {
   "cell_type": "markdown",
   "metadata": {},
   "source": [
    "**Ejercicio 1.1:** Crea una lista llamada `numeros` que contenga los siguientes enteros: 10, 25, 5, 42, 18, 30. Luego, calcula e imprime la suma y el promedio de los números en la lista."
   ]
  },
  {
   "cell_type": "code",
   "execution_count": null,
   "metadata": {},
   "outputs": [],
   "source": [
    "# Tu código aquí para el Ejercicio 1.1"
   ]
  },
  {
   "cell_type": "markdown",
   "metadata": {},
   "source": [
    "**Ejercicio 1.2:** Dada la lista `palabras = [\"python\", \"curso\", \"inteligencia\", \"artificial\", \"datos\", \"sol\"]`, crea una nueva lista llamada `palabras_largas` que contenga únicamente las palabras de la lista original que tengan más de 5 caracteres. Imprime `palabras_largas`."
   ]
  },
  {
   "cell_type": "code",
   "execution_count": null,
   "metadata": {},
   "outputs": [],
   "source": [
    "# Tu código aquí para el Ejercicio 1.2"
   ]
  },
  {
   "cell_type": "markdown",
   "metadata": {},
   "source": [
    "### Ejercicios con Diccionarios"
   ]
  },
  {
   "cell_type": "markdown",
   "metadata": {},
   "source": [
    "**Ejercicio 2.1:** Crea un diccionario llamado `libro` para representar un libro con las siguientes claves y valores:\n",
    "- `titulo`: \"Cien Años de Soledad\"\n",
    "- `autor`: \"Gabriel García Márquez\"\n",
    "- `publicacion`: 1967\n",
    "- `genero`: \"Realismo Mágico\"\n",
    "Luego, imprime los detalles del libro en una frase formateada, por ejemplo: \"El libro 'Cien Años de Soledad' fue escrito por Gabriel García Márquez y publicado en 1967.\""
   ]
  },
  {
   "cell_type": "code",
   "execution_count": null,
   "metadata": {},
   "outputs": [],
   "source": [
    "# Tu código aquí para el Ejercicio 2.1"
   ]
  },
  {
   "cell_type": "markdown",
   "metadata": {},
   "source": [
    "**Ejercicio 2.2:** Tienes el siguiente diccionario de puntuaciones de estudiantes: `puntuaciones = {\"Ana\": 85, \"Luis\": 92, \"Eva\": 78, \"Juan\": 95, \"Sofia\": 88}`. Escribe código para encontrar e imprimir el nombre del estudiante con la puntuación más alta y su respectiva puntuación."
   ]
  },
  {
   "cell_type": "code",
   "execution_count": null,
   "metadata": {},
   "outputs": [],
   "source": [
    "# Tu código aquí para el Ejercicio 2.2"
   ]
  },
  {
   "cell_type": "markdown",
   "metadata": {},
   "source": [
    "### Ejercicios con Bucles"
   ]
  },
  {
   "cell_type": "markdown",
   "metadata": {},
   "source": [
    "**Ejercicio 3.1:** Utiliza un bucle `for` y la función `range()` para imprimir la tabla de multiplicar del número 7 (desde 7x1 hasta 7x10)."
   ]
  },
  {
   "cell_type": "code",
   "execution_count": null,
   "metadata": {},
   "outputs": [],
   "source": [
    "# Tu código aquí para el Ejercicio 3.1"
   ]
  },
  {
   "cell_type": "markdown",
   "metadata": {},
   "source": [
    "**Ejercicio 3.2:** Escribe un programa que utilice un bucle `while` para pedirle al usuario que ingrese palabras. El programa debe continuar pidiendo palabras hasta que el usuario escriba \"salir\". Una vez que el usuario escriba \"salir\", el programa debe imprimir cuántas palabras ingresó el usuario (sin contar \"salir\")."
   ]
  },
  {
   "cell_type": "code",
   "execution_count": null,
   "metadata": {},
   "outputs": [],
   "source": [
    "# Tu código aquí para el Ejercicio 3.2"
   ]
  },
  {
   "cell_type": "markdown",
   "metadata": {},
   "source": [
    "### Ejercicios con Funciones"
   ]
  },
  {
   "cell_type": "markdown",
   "metadata": {},
   "source": [
    "**Ejercicio 4.1:** Escribe una función llamada `encontrar_maximo` que tome una lista de números como parámetro y devuelva el número más grande de la lista. Prueba tu función con la lista `[4, 11, 7, 23, 15, 8]`."
   ]
  },
  {
   "cell_type": "code",
   "execution_count": null,
   "metadata": {},
   "outputs": [],
   "source": [
    "# Tu código aquí para el Ejercicio 4.1"
   ]
  },
  {
   "cell_type": "markdown",
   "metadata": {},
   "source": [
    "**Ejercicio 4.2:** Escribe una función llamada `es_palindromo` que tome una cadena de texto (string) como parámetro. La función debe devolver `True` si la cadena es un palíndromo (se lee igual de izquierda a derecha que de derecha a izquierda, ignorando mayúsculas/minúsculas y espacios) y `False` en caso contrario.\n",
    "Prueba tu función con \"Anita lava la tina\" y \"Python es genial\"."
   ]
  },
  {
   "cell_type": "code",
   "execution_count": null,
   "metadata": {},
   "outputs": [],
   "source": [
    "# Tu código aquí para el Ejercicio 4.2"
   ]
  }
 ],
 "metadata": {
  "kernelspec": {
   "display_name": "Python 3",
   "language": "python",
   "name": "python3"
  },
  "language_info": {
   "codemirror_mode": {
    "name": "ipython",
    "version": 3
   },
   "file_extension": ".py",
   "mimetype": "text/x-python",
   "name": "python",
   "nbconvert_exporter": "python",
   "pygments_lexer": "ipython3",
   "version": "3.x.x" 
  }
 },
 "nbformat": 4,
 "nbformat_minor": 2
}