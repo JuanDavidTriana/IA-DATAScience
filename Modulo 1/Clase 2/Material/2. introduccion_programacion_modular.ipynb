{
 "cells": [
  {
   "cell_type": "markdown",
   "metadata": {},
   "source": [
    "# Introducción a la Programación Modular"
   ]
  },
  {
   "cell_type": "markdown",
   "metadata": {},
   "source": [
    "A medida que los programas crecen en tamaño y complejidad, mantenerlos organizados, legibles y fáciles de depurar se vuelve un desafío. La **programación modular** es un enfoque de diseño de software que nos ayuda a enfrentar estos desafíos dividiendo un programa grande en partes más pequeñas, independientes y manejables llamadas **módulos**."
   ]
  },
  {
   "cell_type": "markdown",
   "metadata": {},
   "source": [
    "## ¿Qué es un Módulo?\n",
    "\n",
    "Piensa en un módulo como una caja de herramientas especializada. Cada caja (módulo) contiene un conjunto de herramientas (funciones, clases, variables) relacionadas que realizan tareas específicas. En lugar de tener todas tus herramientas esparcidas por todas partes, las organizas en cajas para que sea más fácil encontrar y usar la herramienta adecuada cuando la necesites.\n",
    "\n",
    "En Python, un módulo es simplemente un archivo con extensión `.py` que contiene definiciones y declaraciones de Python (funciones, clases, variables). El nombre del archivo es el nombre del módulo (sin la extensión `.py`)."
   ]
  },
  {
   "cell_type": "markdown",
   "metadata": {},
   "source": [
    "## Principios y Beneficios de la Programación Modular"
   ]
  },
  {
   "cell_type": "markdown",
   "metadata": {},
   "source": [
    "Adoptar un enfoque modular ofrece varias ventajas importantes:\n",
    "\n",
    "1.  **Reutilización del Código:** 🧱\n",
    "    * Puedes escribir una función o clase una vez en un módulo y luego usarla (importarla) en muchas partes diferentes de tu programa, o incluso en otros programas. Esto ahorra tiempo y reduce la duplicación de código.\n",
    "\n",
    "2.  **Organización y Claridad:** 📂\n",
    "    * Dividir el código en módulos basados en su funcionalidad hace que la estructura general del proyecto sea más clara y fácil de entender. Cada módulo tiene un propósito bien definido.\n",
    "\n",
    "3.  **Mantenibilidad:** 🔧\n",
    "    * Si necesitas corregir un error o actualizar una funcionalidad específica, puedes enfocarte en el módulo relevante sin temor a afectar accidentalmente otras partes del programa. Aislar los problemas es más sencillo.\n",
    "\n",
    "4.  **Legibilidad:** 📖\n",
    "    * Los módulos más pequeños y enfocados son generalmente más fáciles de leer y comprender que un único archivo de código monolítico y extenso.\n",
    "\n",
    "5.  **Abstracción:** 🙈\n",
    "    * Los módulos pueden ocultar los detalles complejos de implementación y exponer solo una interfaz simple (un conjunto de funciones o clases) para ser utilizada por otras partes del código. Esto se conoce como encapsulación.\n",
    "\n",
    "6.  **Colaboración:** 🤝\n",
    "    * Diferentes desarrolladores o equipos pueden trabajar en módulos separados de forma independiente, lo que facilita el desarrollo de proyectos grandes.\n",
    "\n",
    "7.  **Espacio de Nombres (Namespacing):** 🏷️\n",
    "    * Los módulos ayudan a evitar colisiones de nombres. Puedes tener funciones con el mismo nombre en diferentes módulos porque se accede a ellas a través del nombre del módulo (por ejemplo, `modulo1.mi_funcion()` y `modulo2.mi_funcion()`)."
   ]
  },
  {
   "cell_type": "markdown",
   "metadata": {},
   "source": [
    "## Creación y Uso de Módulos en Python"
   ]
  },
  {
   "cell_type": "markdown",
   "metadata": {},
   "source": [
    "Veamos cómo crear y utilizar nuestros propios módulos."
   ]
  },
  {
   "cell_type": "markdown",
   "metadata": {},
   "source": [
    "### 1. Creando un Módulo\n",
    "\n",
    "Para crear un módulo, simplemente crea un archivo `.py`. Por ejemplo, vamos a crear un módulo de operaciones matemáticas básicas llamado `mi_calculadora.py`.\n",
    "\n",
    "**Contenido del archivo `mi_calculadora.py`:**\n",
    "```python\n",
    "# mi_calculadora.py\n",
    "\n",
    "PI = 3.14159\n",
    "\n",
    "def sumar(a, b):\n",
    "    \"\"\"Esta función devuelve la suma de dos números.\"\"\"\n",
    "    return a + b\n",
    "\n",
    "def restar(a, b):\n",
    "    \"\"\"Esta función devuelve la resta de dos números.\"\"\"\n",
    "    return a - b\n",
    "\n",
    "def multiplicar(a, b):\n",
    "    \"\"\"Esta función devuelve el producto de dos números.\"\"\"\n",
    "    return a * b\n",
    "\n",
    "print(\"Módulo mi_calculadora cargado!\") # Esto se ejecutará cuando el módulo se importe por primera vez\n",
    "```\n",
    "**Nota:** Para que los siguientes ejemplos funcionen en tu Jupyter Notebook, necesitarías crear este archivo `mi_calculadora.py` en el mismo directorio donde se está ejecutando tu notebook. Si estás en un entorno que no te permite crear archivos .py fácilmente (como algunos notebooks online), puedes simular la creación o simplemente entender el concepto para aplicarlo en un entorno de desarrollo local."
   ]
  },
  {
   "cell_type": "markdown",
   "metadata": {},
   "source": [
    "### 2. Importando un Módulo\n",
    "\n",
    "Una vez que tienes tu módulo, puedes usar su contenido en otro script de Python o en una celda de Jupyter Notebook usando la declaración `import`."
   ]
  },
  {
   "cell_type": "markdown",
   "metadata": {},
   "source": [
    "#### a) `import nombre_modulo`\n",
    "\n",
    "Esto importa todo el módulo. Para acceder a sus funciones o variables, debes prefijarlas con el nombre del módulo seguido de un punto (`.`)."
   ]
  },
  {
   "cell_type": "code",
   "execution_count": null,
   "metadata": {},
   "outputs": [
    {
     "ename": "ModuleNotFoundError",
     "evalue": "No module named 'mi_calculadora'",
     "output_type": "error",
     "traceback": [
      "\u001b[31m---------------------------------------------------------------------------\u001b[39m",
      "\u001b[31mModuleNotFoundError\u001b[39m                       Traceback (most recent call last)",
      "\u001b[36mCell\u001b[39m\u001b[36m \u001b[39m\u001b[32mIn[1]\u001b[39m\u001b[32m, line 2\u001b[39m\n\u001b[32m      1\u001b[39m \u001b[38;5;66;03m# Suponiendo que mi_calculadora.py existe en el mismo directorio\u001b[39;00m\n\u001b[32m----> \u001b[39m\u001b[32m2\u001b[39m \u001b[38;5;28;01mimport\u001b[39;00m\u001b[38;5;250m \u001b[39m\u001b[34;01mmi_calculadora\u001b[39;00m\n\u001b[32m      4\u001b[39m resultado_suma = mi_calculadora.sumar(\u001b[32m10\u001b[39m, \u001b[32m5\u001b[39m)\n\u001b[32m      5\u001b[39m resultado_resta = mi_calculadora.restar(\u001b[32m10\u001b[39m, \u001b[32m5\u001b[39m)\n",
      "\u001b[31mModuleNotFoundError\u001b[39m: No module named 'mi_calculadora'"
     ]
    }
   ],
   "source": [
    "# Suponiendo que mi_calculadora.py existe en el mismo directorio\n",
    "import mi_calculadora\n",
    "\n",
    "resultado_suma = mi_calculadora.sumar(10, 5)\n",
    "resultado_resta = mi_calculadora.restar(10, 5)\n",
    "valor_pi = mi_calculadora.PI\n",
    "\n",
    "print(f\"Suma: {resultado_suma}\")\n",
    "print(f\"Resta: {resultado_resta}\")\n",
    "print(f\"Valor de PI: {valor_pi}\")"
   ]
  },
  {
   "cell_type": "markdown",
   "metadata": {},
   "source": [
    "Observa que el mensaje `\"Módulo mi_calculadora cargado!\"` se imprime solo una vez, la primera vez que el módulo es importado en una sesión de Python."
   ]
  },
  {
   "cell_type": "markdown",
   "metadata": {},
   "source": [
    "#### b) `from nombre_modulo import nombre_especifico`\n",
    "\n",
    "Si solo necesitas algunas funciones o variables específicas del módulo, puedes importarlas directamente. Esto te permite usarlas sin el prefijo del nombre del módulo."
   ]
  },
  {
   "cell_type": "code",
   "execution_count": null,
   "metadata": {},
   "outputs": [],
   "source": [
    "from mi_calculadora import sumar, multiplicar, PI\n",
    "\n",
    "resultado_suma_directa = sumar(20, 7) # Ya no necesitamos mi_calculadora.sumar\n",
    "resultado_producto = multiplicar(6, 7)\n",
    "\n",
    "print(f\"Suma directa: {resultado_suma_directa}\")\n",
    "print(f\"Producto: {resultado_producto}\")\n",
    "print(f\"PI importado directamente: {PI}\")\n",
    "\n",
    "# Si intentamos usar restar, dará error porque no fue importado directamente\n",
    "# resultado_resta_error = restar(5,2) # Descomenta para ver el NameError"
   ]
  },
  {
   "cell_type": "markdown",
   "metadata": {},
   "source": [
    "#### c) `from nombre_modulo import *` (¡Generalmente no recomendado!)\n",
    "\n",
    "Esto importa todos los nombres (funciones, clases, variables) del módulo al espacio de nombres actual. Si bien puede parecer conveniente, **generalmente se desaconseja** porque puede llevar a colisiones de nombres (si tu script y el módulo importado tienen nombres idénticos) y hace que el código sea menos legible, ya que no está claro de dónde provienen ciertos nombres."
   ]
  },
  {
   "cell_type": "code",
   "execution_count": null,
   "metadata": {},
   "outputs": [],
   "source": [
    "# from mi_calculadora import * # Ejemplo, pero usualmente no recomendado\n",
    "# suma_asterisco = sumar(3,3) # Funciona, pero puede ser confuso en scripts grandes\n",
    "# print(suma_asterisco)"
   ]
  },
  {
   "cell_type": "markdown",
   "metadata": {},
   "source": [
    "#### d) Usando alias con `as`\n",
    "\n",
    "Puedes darle un alias (un nombre más corto o diferente) a un módulo o a un nombre importado. Esto es útil para módulos con nombres largos o para evitar colisiones de nombres."
   ]
  },
  {
   "cell_type": "code",
   "execution_count": null,
   "metadata": {},
   "outputs": [],
   "source": [
    "import mi_calculadora as calc # Alias para el módulo\n",
    "from mi_calculadora import multiplicar as mult # Alias para una función específica\n",
    "\n",
    "suma_alias_modulo = calc.sumar(100, 50)\n",
    "producto_alias_funcion = mult(4, 5)\n",
    "\n",
    "print(f\"Suma con alias de módulo: {suma_alias_modulo}\")\n",
    "print(f\"Producto con alias de función: {producto_alias_funcion}\")"
   ]
  },
  {
   "cell_type": "markdown",
   "metadata": {},
   "source": [
    "### 3. El Bloque `if __name__ == \"__main__\":`\n",
    "\n",
    "A menudo verás este bloque de código al final de los módulos de Python. ¿Qué significa?\n",
    "\n",
    "* Cuando Python ejecuta un archivo, asigna un nombre especial `\"__main__\"` a la variable `__name__` de ese archivo.\n",
    "* Cuando un archivo es importado como un módulo por otro script, la variable `__name__` dentro de ese módulo se establece con el nombre del propio módulo (por ejemplo, `\"mi_calculadora\"`).\n",
    "\n",
    "Este bloque te permite escribir código que solo se ejecutará cuando el archivo del módulo se ejecute como el script principal, pero no cuando se importe como un módulo en otro script. Es comúnmente usado para incluir pruebas o ejemplos de uso del módulo.\n",
    "\n",
    "**Modifiquemos `mi_calculadora.py` para incluirlo:**\n",
    "```python\n",
    "# mi_calculadora.py (versión actualizada)\n",
    "\n",
    "PI = 3.14159\n",
    "\n",
    "def sumar(a, b):\n",
    "    return a + b\n",
    "\n",
    "def restar(a, b):\n",
    "    return a - b\n",
    "\n",
    "def multiplicar(a, b):\n",
    "    return a * b\n",
    "\n",
    "# print(\"Módulo mi_calculadora cargado!\") # Podemos quitar o dejar este\n",
    "\n",
    "if __name__ == \"__main__\":\n",
    "    # Este código solo se ejecuta si corremos mi_calculadora.py directamente\n",
    "    # No se ejecutará si mi_calculadora es importado por otro script.\n",
    "    print(\"Ejecutando mi_calculadora.py como script principal...\")\n",
    "    print(f\"Prueba de suma: 5 + 3 = {sumar(5, 3)}\")\n",
    "    print(f\"Prueba de resta: 10 - 4 = {restar(10, 4)}\")\n",
    "    print(f\"El valor de PI es: {PI}\")\n",
    "```\n",
    "Si ahora importas `mi_calculadora` en tu notebook, el bloque `if __name__ == \"__main__\":` no se ejecutará. Pero si ejecutaras `python mi_calculadora.py` desde tu terminal, verías los mensajes de prueba."
   ]
  },
  {
   "cell_type": "markdown",
   "metadata": {},
   "source": [
    "## Resumen\n",
    "\n",
    "La programación modular es una técnica poderosa para escribir código más limpio, organizado y reutilizable. Python facilita enormemente la creación y el uso de módulos, lo que te permite estructurar tus proyectos de manera eficiente. A medida que tus programas se vuelvan más complejos, apreciarás cada vez más los beneficios de la modularidad."
   ]
  },
  {
   "cell_type": "markdown",
   "metadata": {},
   "source": [
    "---"
   ]
  },
  {
   "cell_type": "markdown",
   "metadata": {},
   "source": [
    "### Ejercicio Práctico: Creando y Usando Módulos\n",
    "\n",
    "1.  **Crea un módulo `saludos.py`:**\n",
    "    * Este módulo debe contener una función `saludar(nombre)` que devuelva un string como \"Hola, [nombre]! Bienvenido.\".\n",
    "    * Debe contener otra función `despedir(nombre)` que devuelva un string como \"Adiós, [nombre]! Hasta pronto.\".\n",
    "    * Añade un bloque `if __name__ == \"__main__\":` que pruebe ambas funciones imprimiendo sus resultados.\n",
    "\n",
    "2.  **En una celda de este notebook (o en un nuevo script `principal.py`):**\n",
    "    * Importa el módulo `saludos`.\n",
    "    * Pide al usuario que ingrese su nombre.\n",
    "    * Utiliza las funciones del módulo `saludos` para imprimir un saludo y una despedida personalizados para el usuario."
   ]
  },
  {
   "cell_type": "code",
   "execution_count": null,
   "metadata": {},
   "outputs": [],
   "source": [
    "# Aquí puedes escribir el código para el punto 2 del ejercicio,\n",
    "# asumiendo que has creado saludos.py en el mismo directorio.\n",
    "\n",
    "# Ejemplo de cómo podría ser (después de crear saludos.py):\n",
    "# import saludos\n",
    "\n",
    "# nombre_usuario = input(\"Por favor, ingresa tu nombre: \")\n",
    "\n",
    "# mensaje_saludo = saludos.saludar(nombre_usuario)\n",
    "# mensaje_despedida = saludos.despedir(nombre_usuario)\n",
    "\n",
    "# print(mensaje_saludo)\n",
    "# print(mensaje_despedida)"
   ]
  }
 ],
 "metadata": {
  "kernelspec": {
   "display_name": "Python 3",
   "language": "python",
   "name": "python3"
  },
  "language_info": {
   "codemirror_mode": {
    "name": "ipython",
    "version": 3
   },
   "file_extension": ".py",
   "mimetype": "text/x-python",
   "name": "python",
   "nbconvert_exporter": "python",
   "pygments_lexer": "ipython3",
   "version": "3.13.3"
  }
 },
 "nbformat": 4,
 "nbformat_minor": 2
}
