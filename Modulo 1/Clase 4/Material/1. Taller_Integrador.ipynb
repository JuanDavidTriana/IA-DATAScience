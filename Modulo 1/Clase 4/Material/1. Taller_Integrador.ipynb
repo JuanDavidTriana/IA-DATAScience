{
 "cells": [
  {
   "cell_type": "markdown",
   "metadata": {},
   "source": [
    "# Taller Integrador (Parte 1): Exploración y Análisis Inicial de un Dataset Real 📊"
   ]
  },
  {
   "cell_type": "markdown",
   "metadata": {},
   "source": [
    "## Objetivo del Taller 🎯\n",
    "\n",
    "En este taller, aplicaremos las habilidades y herramientas de Python que hemos aprendido hasta ahora (lectura de archivos, listas, diccionarios, bucles, funciones y principios de modularidad) para realizar una exploración y un análisis inicial de un conjunto de datos \"real\". El objetivo es familiarizarnos con el proceso de examinar datos, extraer información básica y responder preguntas sencillas utilizando programación en Python."
   ]
  },
  {
   "cell_type": "markdown",
   "metadata": {},
   "source": [
    "## El Conjunto de Datos: `datos_estudiantes.csv` 🎓\n",
    "\n",
    "Para este taller, utilizaremos un archivo CSV (Valores Separados por Comas) que contiene información básica sobre un grupo de estudiantes. El archivo se llamará `datos_estudiantes.csv`.\n",
    "\n",
    "**Estructura del archivo:**\n",
    "* `ID`: Identificador único del estudiante (entero).\n",
    "* `Nombre`: Nombre completo del estudiante (cadena de texto).\n",
    "* `Edad`: Edad del estudiante en años (entero).\n",
    "* `Genero`: Género del estudiante (cadena de texto, ej: \"Masculino\", \"Femenino\").\n",
    "* `PromedioGeneral`: Promedio general de calificaciones del estudiante (flotante).\n",
    "* `CiudadOrigen`: Ciudad de origen del estudiante (cadena de texto).\n",
    "\n",
    "**Contenido de `datos_estudiantes.csv`:**\n",
    "```csv\n",
    "ID,Nombre,Edad,Genero,PromedioGeneral,CiudadOrigen\n",
    "1,Ana Perez,20,Femenino,4.5,Bogota\n",
    "2,Luis Rojas,22,Masculino,3.8,Medellin\n",
    "3,Sofia Castro,19,Femenino,4.1,Bogota\n",
    "4,Carlos Vera,21,Masculino,3.5,Cali\n",
    "5,Maria Lopez,20,Femenino,4.8,Medellin\n",
    "6,Juan Diaz,23,Masculino,3.2,Pasto\n",
    "7,Laura Gomez,18,Femenino,4.6,Bogota\n",
    "8,Pedro Navas,22,Masculino,3.9,Cali\n",
    "9,Lucia Mora,21,Femenino,4.0,Medellin\n",
    "10,Andres Silva,20,Masculino,3.7,Bogota\n",
    "11,Camila Ortiz,22,Femenino,3.9,Pasto\n",
    "12,David Niño,19,Masculino,4.2,Cali\n",
    "```\n",
    "\n",
    "**Instrucción:** Crea un archivo llamado `datos_estudiantes.csv` en el mismo directorio que este notebook y copia el contenido de arriba en él."
   ]
  },
  {
   "cell_type": "markdown",
   "metadata": {},
   "source": [
    "## Herramientas Aprendidas a Utilizar 🛠️\n",
    "\n",
    "Para este análisis, nos basaremos en:\n",
    "* **Lectura de archivos:** Para cargar los datos desde el archivo CSV.\n",
    "* **Listas y Diccionarios:** Para almacenar y estructurar los datos en memoria.\n",
    "* **Bucles (`for`, `while`):** Para iterar sobre los datos y realizar cálculos.\n",
    "* **Condicionales (`if`, `elif`, `else`):** Para filtrar datos o tomar decisiones.\n",
    "* **Funciones:** Para encapsular lógica reutilizable (por ejemplo, una función para cargar los datos, funciones para calcular estadísticas específicas, etc.).\n",
    "* **(Opcional) Modularidad:** Si lo deseas, puedes crear un archivo `.py` (ej: `analizador_estudiantes.py`) con tus funciones de ayuda e importarlas aquí."
   ]
  },
  {
   "cell_type": "markdown",
   "metadata": {},
   "source": [
    "---"
   ]
  },
  {
   "cell_type": "markdown",
   "metadata": {},
   "source": [
    "## Pasos del Análisis Exploratorio 🔎"
   ]
  },
  {
   "cell_type": "markdown",
   "metadata": {},
   "source": [
    "### Paso 1: Carga de Datos\n",
    "\n",
    "El primer paso es leer el archivo `datos_estudiantes.csv` y cargar su contenido en una estructura de datos adecuada en Python, como una lista de diccionarios, donde cada diccionario representa a un estudiante."
   ]
  },
  {
   "cell_type": "code",
   "execution_count": null,
   "metadata": {},
   "outputs": [],
   "source": [
    "import csv # El módulo csv puede facilitar la lectura\n",
    "\n",
    "def cargar_datos_estudiantes(ruta_archivo):\n",
    "    \"\"\"Carga los datos de estudiantes desde un archivo CSV.\"\"\"\n",
    "    estudiantes = []\n",
    "    try:\n",
    "        with open(ruta_archivo, mode='r', newline='', encoding='utf-8') as archivo_csv:\n",
    "            lector = csv.DictReader(archivo_csv) # DictReader es muy útil aquí\n",
    "            for fila in lector:\n",
    "                try:\n",
    "                    # Convertir tipos de datos adecuadamente\n",
    "                    fila['ID'] = int(fila['ID'])\n",
    "                    fila['Edad'] = int(fila['Edad'])\n",
    "                    fila['PromedioGeneral'] = float(fila['PromedioGeneral'])\n",
    "                    estudiantes.append(fila)\n",
    "                except ValueError as ve:\n",
    "                    print(f\"Advertencia: Fila con datos incorrectos omitida: {fila} - Error: {ve}\")\n",
    "    except FileNotFoundError:\n",
    "        print(f\"Error: El archivo '{ruta_archivo}' no fue encontrado.\")\n",
    "        return None\n",
    "    except Exception as e:\n",
    "        print(f\"Ocurrió un error inesperado al cargar los datos: {e}\")\n",
    "        return None\n",
    "    return estudiantes\n",
    "\n",
    "# Ruta al archivo de datos\n",
    "archivo_estudiantes = \"datos_estudiantes.csv\"\n",
    "\n",
    "# Cargar los datos\n",
    "lista_estudiantes = cargar_datos_estudiantes(archivo_estudiantes)\n",
    "\n",
    "# Verificar si se cargaron los datos\n",
    "if lista_estudiantes:\n",
    "    print(f\"Se cargaron {len(lista_estudiantes)} registros de estudiantes.\")\n",
    "else:\n",
    "    print(\"No se pudieron cargar los datos de estudiantes.\")"
   ]
  },
  {
   "cell_type": "markdown",
   "metadata": {},
   "source": [
    "### Paso 2: Inspección Inicial de los Datos\n",
    "\n",
    "Una vez cargados los datos, es importante realizar una inspección básica para entender su estructura y contenido.\n",
    "* Mostrar los primeros 3-5 registros.\n",
    "* Mostrar el número total de registros.\n",
    "* Identificar las columnas (claves del diccionario) disponibles."
   ]
  },
  {
   "cell_type": "code",
   "execution_count": null,
   "metadata": {},
   "outputs": [],
   "source": [
    "if lista_estudiantes:\n",
    "    # Mostrar los primeros 3 registros\n",
    "    print(\"\\n--- Primeros 3 Estudiantes ---\")\n",
    "    for i in range(min(3, len(lista_estudiantes))):\n",
    "        print(lista_estudiantes[i])\n",
    "    \n",
    "    # Número total de registros (ya lo imprimimos, pero podemos confirmarlo)\n",
    "    print(f\"\\nNúmero total de estudiantes: {len(lista_estudiantes)}\")\n",
    "    \n",
    "    # Columnas disponibles (claves del primer diccionario, si existe)\n",
    "    if lista_estudiantes:\n",
    "        print(f\"\\nColumnas disponibles: {list(lista_estudiantes[0].keys())}\")"
   ]
  },
  {
   "cell_type": "markdown",
   "metadata": {},
   "source": [
    "### Paso 3: Estadísticas Descriptivas Básicas\n",
    "\n",
    "Calculemos algunas estadísticas básicas para entender mejor las características de nuestros datos. Implementa funciones si lo consideras necesario.\n",
    "\n",
    "1.  **Edades:**\n",
    "    * Edad mínima.\n",
    "    * Edad máxima.\n",
    "    * Promedio de edad.\n",
    "2.  **Promedio General:**\n",
    "    * Promedio general mínimo.\n",
    "    * Promedio general máximo.\n",
    "    * Promedio de los promedios generales de todos los estudiantes.\n",
    "3.  **Distribución por Género:**\n",
    "    * Contar cuántos estudiantes hay de cada género.\n",
    "4.  **Distribución por Ciudad de Origen:**\n",
    "    * Listar las ciudades de origen únicas.\n",
    "    * Contar cuántos estudiantes provienen de cada ciudad."
   ]
  },
  {
   "cell_type": "markdown",
   "metadata": {},
   "source": [
    "#### 3.1 Estadísticas de Edades"
   ]
  },
  {
   "cell_type": "code",
   "execution_count": null,
   "metadata": {},
   "outputs": [],
   "source": [
    "if lista_estudiantes:\n",
    "    edades = [estudiante['Edad'] for estudiante in lista_estudiantes]\n",
    "    \n",
    "    edad_minima = min(edades)\n",
    "    edad_maxima = max(edades)\n",
    "    promedio_edad = sum(edades) / len(edades) if edades else 0\n",
    "    \n",
    "    print(\"\\n--- Estadísticas de Edades ---\")\n",
    "    print(f\"Edad mínima: {edad_minima}\")\n",
    "    print(f\"Edad máxima: {edad_maxima}\")\n",
    "    print(f\"Promedio de edad: {promedio_edad:.2f}\")"
   ]
  },
  {
   "cell_type": "markdown",
   "metadata": {},
   "source": [
    "#### 3.2 Estadísticas de Promedio General"
   ]
  },
  {
   "cell_type": "code",
   "execution_count": null,
   "metadata": {},
   "outputs": [],
   "source": [
    "if lista_estudiantes:\n",
    "    promedios_generales = [estudiante['PromedioGeneral'] for estudiante in lista_estudiantes]\n",
    "    \n",
    "    prom_min = min(promedios_generales)\n",
    "    prom_max = max(promedios_generales)\n",
    "    promedio_de_promedios = sum(promedios_generales) / len(promedios_generales) if promedios_generales else 0\n",
    "    \n",
    "    print(\"\\n--- Estadísticas de Promedio General ---\")\n",
    "    print(f\"Promedio general mínimo: {prom_min}\")\n",
    "    print(f\"Promedio general máximo: {prom_max}\")\n",
    "    print(f\"Promedio de los promedios generales: {promedio_de_promedios:.2f}\")"
   ]
  },
  {
   "cell_type": "markdown",
   "metadata": {},
   "source": [
    "#### 3.3 Distribución por Género"
   ]
  },
  {
   "cell_type": "code",
   "execution_count": null,
   "metadata": {},
   "outputs": [],
   "source": [
    "if lista_estudiantes:\n",
    "    conteo_genero = {}\n",
    "    for estudiante in lista_estudiantes:\n",
    "        genero = estudiante['Genero']\n",
    "        if genero in conteo_genero:\n",
    "            conteo_genero[genero] += 1\n",
    "        else:\n",
    "            conteo_genero[genero] = 1\n",
    "            \n",
    "    print(\"\\n--- Distribución por Género ---\")\n",
    "    for genero, cantidad in conteo_genero.items():\n",
    "        print(f\"{genero}: {cantidad}\")"
   ]
  },
  {
   "cell_type": "markdown",
   "metadata": {},
   "source": [
    "#### 3.4 Distribución por Ciudad de Origen"
   ]
  },
  {
   "cell_type": "code",
   "execution_count": null,
   "metadata": {},
   "outputs": [],
   "source": [
    "if lista_estudiantes:\n",
    "    conteo_ciudad = {}\n",
    "    ciudades_unicas = []\n",
    "    \n",
    "    for estudiante in lista_estudiantes:\n",
    "        ciudad = estudiante['CiudadOrigen']\n",
    "        if ciudad not in ciudades_unicas:\n",
    "            ciudades_unicas.append(ciudad)\n",
    "        \n",
    "        if ciudad in conteo_ciudad:\n",
    "            conteo_ciudad[ciudad] += 1\n",
    "        else:\n",
    "            conteo_ciudad[ciudad] = 1\n",
    "            \n",
    "    print(\"\\n--- Distribución por Ciudad de Origen ---\")\n",
    "    print(f\"Ciudades de origen únicas: {', '.join(sorted(ciudades_unicas))}\")\n",
    "    print(\"Conteo de estudiantes por ciudad:\")\n",
    "    for ciudad, cantidad in conteo_ciudad.items():\n",
    "        print(f\"- {ciudad}: {cantidad}\")"
   ]
  },
  {
   "cell_type": "markdown",
   "metadata": {},
   "source": [
    "### Paso 4: Respondiendo Preguntas Simples sobre los Datos\n",
    "\n",
    "Utiliza tus habilidades para responder las siguientes preguntas:\n",
    "\n",
    "1.  ¿Cuántos estudiantes tienen un promedio general superior a 4.0?\n",
    "2.  ¿Cuál es el nombre y el promedio del estudiante (o uno de los estudiantes, si hay empate) con el promedio general más alto?\n",
    "3.  ¿Cuántos estudiantes son menores de 20 años?\n",
    "4.  (Opcional) ¿Cuál es el promedio de edad de los estudiantes de 'Bogota'?"
   ]
  },
  {
   "cell_type": "markdown",
   "metadata": {},
   "source": [
    "#### 4.1 Estudiantes con promedio > 4.0"
   ]
  },
  {
   "cell_type": "code",
   "execution_count": null,
   "metadata": {},
   "outputs": [],
   "source": [
    "if lista_estudiantes:\n",
    "    estudiantes_alto_promedio = 0\n",
    "    for estudiante in lista_estudiantes:\n",
    "        if estudiante['PromedioGeneral'] > 4.0:\n",
    "            estudiantes_alto_promedio += 1\n",
    "    print(f\"\\nNúmero de estudiantes con promedio > 4.0: {estudiantes_alto_promedio}\")"
   ]
  },
  {
   "cell_type": "markdown",
   "metadata": {},
   "source": [
    "#### 4.2 Estudiante con el promedio más alto"
   ]
  },
  {
   "cell_type": "code",
   "execution_count": null,
   "metadata": {},
   "outputs": [],
   "source": [
    "if lista_estudiantes:\n",
    "    mejor_estudiante = None\n",
    "    promedio_mas_alto = -1.0 # Asumir un valor inicial bajo\n",
    "\n",
    "    for estudiante in lista_estudiantes:\n",
    "        if estudiante['PromedioGeneral'] > promedio_mas_alto:\n",
    "            promedio_mas_alto = estudiante['PromedioGeneral']\n",
    "            mejor_estudiante = estudiante\n",
    "            \n",
    "    if mejor_estudiante:\n",
    "        print(f\"\\nEstudiante con el promedio más alto: {mejor_estudiante['Nombre']} (Promedio: {mejor_estudiante['PromedioGeneral']})\")\n",
    "    else:\n",
    "        print(\"\\nNo se pudo determinar el estudiante con el promedio más alto.\")"
   ]
  },
  {
   "cell_type": "markdown",
   "metadata": {},
   "source": [
    "#### 4.3 Estudiantes menores de 20 años"
   ]
  },
  {
   "cell_type": "code",
   "execution_count": null,
   "metadata": {},
   "outputs": [],
   "source": [
    "if lista_estudiantes:\n",
    "    menores_de_20 = 0\n",
    "    for estudiante in lista_estudiantes:\n",
    "        if estudiante['Edad'] < 20:\n",
    "            menores_de_20 += 1\n",
    "    print(f\"\\nNúmero de estudiantes menores de 20 años: {menores_de_20}\")"
   ]
  },
  {
   "cell_type": "markdown",
   "metadata": {},
   "source": [
    "#### 4.4 (Opcional) Promedio de edad de estudiantes de 'Bogota'"
   ]
  },
  {
   "cell_type": "code",
   "execution_count": null,
   "metadata": {},
   "outputs": [],
   "source": [
    "if lista_estudiantes:\n",
    "    edades_bogota = []\n",
    "    for estudiante in lista_estudiantes:\n",
    "        if estudiante['CiudadOrigen'] == 'Bogota':\n",
    "            edades_bogota.append(estudiante['Edad'])\n",
    "    \n",
    "    if edades_bogota:\n",
    "        promedio_edad_bogota = sum(edades_bogota) / len(edades_bogota)\n",
    "        print(f\"\\nPromedio de edad de estudiantes de Bogotá: {promedio_edad_bogota:.2f}\")\n",
    "    else:\n",
    "        print(\"\\nNo hay estudiantes de Bogotá para calcular el promedio de edad.\")"
   ]
  },
  {
   "cell_type": "markdown",
   "metadata": {},
   "source": [
    "---"
   ]
  },
  {
   "cell_type": "markdown",
   "metadata": {},
   "source": [
    "## Conclusiones Iniciales y Próximos Pasos 🤔\n",
    "\n",
    "¡Felicidades por completar esta exploración inicial!\n",
    "\n",
    "Reflexiona sobre lo que has descubierto:\n",
    "* ¿Qué te pareció el proceso de analizar datos usando Python básico?\n",
    "* ¿Qué desafíos encontraste?\n",
    "* ¿Qué tipo de visualizaciones (gráficos) crees que ayudarían a entender mejor estos datos? (Aunque no las hemos implementado aquí).\n",
    "\n",
    "Este ejercicio demuestra cómo podemos empezar a extraer información valiosa de los datos con herramientas fundamentales. En módulos futuros de un curso más extenso de ciencia de datos, aprenderías a usar librerías especializadas como **Pandas** para la manipulación de datos y **Matplotlib/Seaborn** para la visualización, lo que hace este tipo de tareas mucho más eficientes y potentes, especialmente con datasets más grandes y complejos."
   ]
  }
 ],
 "metadata": {
  "kernelspec": {
   "display_name": "Python 3",
   "language": "python",
   "name": "python3"
  },
  "language_info": {
   "codemirror_mode": {
    "name": "ipython",
    "version": 3
   },
   "file_extension": ".py",
   "mimetype": "text/x-python",
   "name": "python",
   "nbconvert_exporter": "python",
   "pygments_lexer": "ipython3",
   "version": "3.x.x" 
  }
 },
 "nbformat": 4,
 "nbformat_minor": 2
}